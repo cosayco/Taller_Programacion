{
 "cells": [
  {
   "cell_type": "markdown",
   "id": "3c163b4f",
   "metadata": {},
   "source": [
    "## Ejercicios para Graficar"
   ]
  },
  {
   "cell_type": "markdown",
   "id": "fe4a456c",
   "metadata": {},
   "source": [
    "### Para generar los graficos primero debemos importar el modulo o libreria necesario."
   ]
  },
  {
   "cell_type": "code",
   "execution_count": null,
   "id": "68d4d858",
   "metadata": {},
   "outputs": [],
   "source": [
    "#Para poder generar los siguientes graficos primero debemos importar la libreria.\n",
    "import matplotlib.pyplot as plt"
   ]
  },
  {
   "cell_type": "markdown",
   "id": "4886ef46",
   "metadata": {},
   "source": [
    "Ejercicio 1: **Evolución de ventas por año**.\n",
    "- Crear un grafico de líneas que muestre como evolucionaron las ventas en un rango de años (2018-2024). \n",
    "- Crear un diccionario de datos y graficar."
   ]
  },
  {
   "cell_type": "code",
   "execution_count": null,
   "id": "4926073e",
   "metadata": {},
   "outputs": [],
   "source": [
    "#Creamos el diccionario con los valores de ventas.\n",
    "ventas = {\n",
    "    2018: 120,\n",
    "    2019: 150,\n",
    "    2020: 130,\n",
    "    2021: 180,\n",
    "    2022: 210,\n",
    "    2023: 190,\n",
    "    2024: 240\n",
    "} \n",
    "\n",
    "#Generamos dos listas en base al diccionario anterior.\n",
    "años=list(ventas.keys())\n",
    "valores=list(ventas.values())\n",
    "\n",
    "#Con la informacion de las listas generamos el grafico.\n",
    "plt.plot(años, valores, marker=\"o\", color=\"blue\")\n",
    "plt.title(\"Evolucion de Ventas\")\n",
    "plt.xlabel(\"Año\")\n",
    "plt.ylabel(\"Ventas\")\n",
    "plt.grid(True)\n",
    "plt.show()"
   ]
  },
  {
   "cell_type": "markdown",
   "id": "df06266e",
   "metadata": {},
   "source": [
    "Ejercicio 2: **Diagrama de barras de notas por asignatura**.\n",
    "- Visualizar las notas de un curso en un grafico de barras personalizado.\n",
    "- Crear un diccionario con asignaturas y notas.\n",
    "- Permitir elegir el color del grafico. "
   ]
  },
  {
   "cell_type": "code",
   "execution_count": null,
   "id": "bd5383a1",
   "metadata": {},
   "outputs": [],
   "source": [
    "#Creamos el diccionario con las notas y asignaturas.\n",
    "notas = {\n",
    "    \"Matemáticas\": 6.5,\n",
    "    \"Física\": 5.8,\n",
    "    \"Química\": 6.2,\n",
    "    \"Lenguaje\": 7.0,\n",
    "    \"Historia\": 6.0\n",
    "}\n",
    "\n",
    "#Generamos dos listas en base al diccionario anterior.\n",
    "asignaturas=list(notas.keys())\n",
    "valores=list(notas.values())\n",
    "\n",
    "#Con la informacion de las listas generamos el grafico.\n",
    "plt.bar(asignaturas, valores, color=\"red\")\n",
    "plt.title(\"Notas por Asignatura\")\n",
    "plt.xlabel(\"Asignatura\")\n",
    "plt.ylabel(\"Nota\")\n",
    "plt.ylim(0,7)\n",
    "plt.grid(True)\n",
    "plt.show()"
   ]
  }
 ],
 "metadata": {
  "kernelspec": {
   "display_name": "Python 3",
   "language": "python",
   "name": "python3"
  },
  "language_info": {
   "codemirror_mode": {
    "name": "ipython",
    "version": 3
   },
   "file_extension": ".py",
   "mimetype": "text/x-python",
   "name": "python",
   "nbconvert_exporter": "python",
   "pygments_lexer": "ipython3",
   "version": "3.13.7"
  }
 },
 "nbformat": 4,
 "nbformat_minor": 5
}
