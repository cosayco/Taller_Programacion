{
 "cells": [
  {
   "cell_type": "markdown",
   "id": "c114315a",
   "metadata": {},
   "source": [
    "**Ejercicio 1**: Saludo interactivo.\n",
    "- Crear una celda Markdown con título: # 👋 Bienvenida al notebook\n",
    "- Usar input() para pedir el nombre del usuario y saludarlo."
   ]
  },
  {
   "cell_type": "markdown",
   "id": "f069c0d8",
   "metadata": {},
   "source": [
    "# 👋 Bienvenida al notebook"
   ]
  },
  {
   "cell_type": "code",
   "execution_count": 57,
   "id": "9ad169a4",
   "metadata": {},
   "outputs": [
    {
     "name": "stdout",
     "output_type": "stream",
     "text": [
      "Hola Carlitros, 👋 Bienvenid@ a la clase.\n"
     ]
    }
   ],
   "source": [
    "nombre=input(\"Ingrese su nombre:\")\n",
    "print(f\"Hola {nombre}, 👋 Bienvenid@ a la clase.\")"
   ]
  },
  {
   "cell_type": "markdown",
   "id": "4588d929",
   "metadata": {},
   "source": [
    "**Ejercicio 2**: Operaciones básicas.\n",
    "- Crear variables a, b y mostrar suma, resta, multiplicación y división.\n",
    "- Documentar cada operación con Markdown."
   ]
  },
  {
   "cell_type": "code",
   "execution_count": 58,
   "id": "001bd76f",
   "metadata": {},
   "outputs": [],
   "source": [
    "a=int(input(\"Ingrese Numero 1: \"))\n",
    "b=int(input(\"Ingrese Numero 2: \"))"
   ]
  },
  {
   "cell_type": "markdown",
   "id": "4795c8db",
   "metadata": {},
   "source": [
    "1. *Suma*"
   ]
  },
  {
   "cell_type": "code",
   "execution_count": 59,
   "id": "5dbd0379",
   "metadata": {},
   "outputs": [
    {
     "name": "stdout",
     "output_type": "stream",
     "text": [
      "La Suma de 345 + 234 es: 579\n"
     ]
    }
   ],
   "source": [
    "print(f\"La Suma de {a} + {b} es: {a+b}\")"
   ]
  },
  {
   "cell_type": "markdown",
   "id": "ae9f365a",
   "metadata": {},
   "source": [
    "2. *Resta*"
   ]
  },
  {
   "cell_type": "code",
   "execution_count": 60,
   "id": "5f0bfe95",
   "metadata": {},
   "outputs": [
    {
     "name": "stdout",
     "output_type": "stream",
     "text": [
      "La Resta de 345 - 234 es: 111\n"
     ]
    }
   ],
   "source": [
    "print(f\"La Resta de {a} - {b} es: {a-b}\")"
   ]
  },
  {
   "cell_type": "markdown",
   "id": "22d7615d",
   "metadata": {},
   "source": [
    "3. *Multiplicación*"
   ]
  },
  {
   "cell_type": "code",
   "execution_count": 61,
   "id": "0b416aca",
   "metadata": {},
   "outputs": [
    {
     "name": "stdout",
     "output_type": "stream",
     "text": [
      "La Multiplicacion de 345 * 234 es 80730\n"
     ]
    }
   ],
   "source": [
    "print(f\"La Multiplicacion de {a} * {b} es {a*b}\")"
   ]
  },
  {
   "cell_type": "markdown",
   "id": "5ac16f1f",
   "metadata": {},
   "source": [
    "4. *División*"
   ]
  },
  {
   "cell_type": "code",
   "execution_count": 62,
   "id": "adc8ee3b",
   "metadata": {},
   "outputs": [
    {
     "name": "stdout",
     "output_type": "stream",
     "text": [
      "La Division de 345 / 234 es 1.4743589743589745\n"
     ]
    }
   ],
   "source": [
    "print(f\"La Division de {a} / {b} es {a/b}\")"
   ]
  },
  {
   "cell_type": "markdown",
   "id": "74c32af3",
   "metadata": {},
   "source": [
    "**Ejercicio 3**: Lista y bucles.\n",
    "- Crear una lista de frutas y recorrerla con for.\n",
    "- Agregar emojis y explicaciones en Markdown."
   ]
  },
  {
   "cell_type": "markdown",
   "id": "41049c69",
   "metadata": {},
   "source": [
    "1. *Generamos la lista de frutas con emojis*:"
   ]
  },
  {
   "cell_type": "code",
   "execution_count": 63,
   "id": "f1869179",
   "metadata": {},
   "outputs": [],
   "source": [
    "frutas=(\"🍐Pera\",\"🍎Manzana\",\"🍊Naranja\",\"🍓Frutilla\",\"🍌Platano\")"
   ]
  },
  {
   "cell_type": "markdown",
   "id": "70d60380",
   "metadata": {},
   "source": [
    "2. *la recorremos con un for para mostrar sus valores*:"
   ]
  },
  {
   "cell_type": "code",
   "execution_count": 64,
   "id": "5ada52d7",
   "metadata": {},
   "outputs": [
    {
     "name": "stdout",
     "output_type": "stream",
     "text": [
      "🍐Pera.\n",
      "🍎Manzana.\n",
      "🍊Naranja.\n",
      "🍓Frutilla.\n",
      "🍌Platano.\n"
     ]
    }
   ],
   "source": [
    "for fruta in frutas:\n",
    "    print(f\"{fruta}.\")"
   ]
  },
  {
   "cell_type": "markdown",
   "id": "a148d348",
   "metadata": {},
   "source": [
    "---"
   ]
  },
  {
   "cell_type": "markdown",
   "id": "92f6dda5",
   "metadata": {},
   "source": [
    "**Ejercicio 4**: Crear un Dataframe.\n",
    "- Usar **pandas** para crear un dataframe de ventas.\n",
    "- Mostrar las primeras filas con **df.head()**."
   ]
  },
  {
   "cell_type": "code",
   "execution_count": 65,
   "id": "87233fa6",
   "metadata": {},
   "outputs": [
    {
     "data": {
      "text/html": [
       "<div>\n",
       "<style scoped>\n",
       "    .dataframe tbody tr th:only-of-type {\n",
       "        vertical-align: middle;\n",
       "    }\n",
       "\n",
       "    .dataframe tbody tr th {\n",
       "        vertical-align: top;\n",
       "    }\n",
       "\n",
       "    .dataframe thead th {\n",
       "        text-align: right;\n",
       "    }\n",
       "</style>\n",
       "<table border=\"1\" class=\"dataframe\">\n",
       "  <thead>\n",
       "    <tr style=\"text-align: right;\">\n",
       "      <th></th>\n",
       "      <th>Producto</th>\n",
       "      <th>Categoria</th>\n",
       "      <th>Unidades Vendidas</th>\n",
       "      <th>Precio Unitario</th>\n",
       "      <th>Total</th>\n",
       "    </tr>\n",
       "  </thead>\n",
       "  <tbody>\n",
       "    <tr>\n",
       "      <th>0</th>\n",
       "      <td>Laptop</td>\n",
       "      <td>Electrónica</td>\n",
       "      <td>15</td>\n",
       "      <td>800</td>\n",
       "      <td>12000</td>\n",
       "    </tr>\n",
       "    <tr>\n",
       "      <th>1</th>\n",
       "      <td>Mouse</td>\n",
       "      <td>Acceosorios</td>\n",
       "      <td>40</td>\n",
       "      <td>30</td>\n",
       "      <td>1200</td>\n",
       "    </tr>\n",
       "    <tr>\n",
       "      <th>2</th>\n",
       "      <td>Teclado</td>\n",
       "      <td>Accesorios</td>\n",
       "      <td>25</td>\n",
       "      <td>45</td>\n",
       "      <td>1125</td>\n",
       "    </tr>\n",
       "    <tr>\n",
       "      <th>3</th>\n",
       "      <td>Monitor</td>\n",
       "      <td>Electrónica</td>\n",
       "      <td>10</td>\n",
       "      <td>200</td>\n",
       "      <td>2000</td>\n",
       "    </tr>\n",
       "    <tr>\n",
       "      <th>4</th>\n",
       "      <td>Audífonos</td>\n",
       "      <td>Audio</td>\n",
       "      <td>30</td>\n",
       "      <td>70</td>\n",
       "      <td>2100</td>\n",
       "    </tr>\n",
       "  </tbody>\n",
       "</table>\n",
       "</div>"
      ],
      "text/plain": [
       "    Producto    Categoria  Unidades Vendidas  Precio Unitario  Total\n",
       "0     Laptop  Electrónica                 15              800  12000\n",
       "1      Mouse  Acceosorios                 40               30   1200\n",
       "2    Teclado   Accesorios                 25               45   1125\n",
       "3    Monitor  Electrónica                 10              200   2000\n",
       "4  Audífonos        Audio                 30               70   2100"
      ]
     },
     "execution_count": 65,
     "metadata": {},
     "output_type": "execute_result"
    }
   ],
   "source": [
    "import pandas as pd\n",
    "\n",
    "datos_ventas = {\n",
    "    \"Producto\": [\"Laptop\", \"Mouse\", \"Teclado\", \"Monitor\", \"Audífonos\"],\n",
    "    \"Categoria\": [\"Electrónica\", \"Acceosorios\",\"Accesorios\",\"Electrónica\",\"Audio\"],\n",
    "    \"Unidades Vendidas\": [15, 40, 25, 10, 30],\n",
    "    \"Precio Unitario\": [800, 30, 45, 200, 70]\n",
    "}\n",
    "\n",
    "df=pd.DataFrame(datos_ventas)\n",
    "df[\"Total\"]=df[\"Unidades Vendidas\"] * df[\"Precio Unitario\"]\n",
    "df.head()\n",
    "#print(df.head())"
   ]
  },
  {
   "cell_type": "markdown",
   "id": "3033976f",
   "metadata": {},
   "source": [
    "**Ejercicio 5**: Limpieza básica.\n",
    "- Eliminar valores nulos y mostrar el resultado.\n",
    "- Documentar el proceso con Markdown."
   ]
  },
  {
   "cell_type": "markdown",
   "id": "7186ac6c",
   "metadata": {},
   "source": [
    "1. *Generamos un valor Nulo*"
   ]
  },
  {
   "cell_type": "code",
   "execution_count": 66,
   "id": "14673ca2",
   "metadata": {},
   "outputs": [],
   "source": [
    "df.loc[2, \"Precio Unitario\"] = None"
   ]
  },
  {
   "cell_type": "markdown",
   "id": "5698c25c",
   "metadata": {},
   "source": [
    "2. *Mostramos los datos antes de limpiar.*"
   ]
  },
  {
   "cell_type": "code",
   "execution_count": 67,
   "id": "eb5dded1",
   "metadata": {},
   "outputs": [
    {
     "name": "stdout",
     "output_type": "stream",
     "text": [
      "Antes de limpiar:\n"
     ]
    },
    {
     "data": {
      "text/html": [
       "<div>\n",
       "<style scoped>\n",
       "    .dataframe tbody tr th:only-of-type {\n",
       "        vertical-align: middle;\n",
       "    }\n",
       "\n",
       "    .dataframe tbody tr th {\n",
       "        vertical-align: top;\n",
       "    }\n",
       "\n",
       "    .dataframe thead th {\n",
       "        text-align: right;\n",
       "    }\n",
       "</style>\n",
       "<table border=\"1\" class=\"dataframe\">\n",
       "  <thead>\n",
       "    <tr style=\"text-align: right;\">\n",
       "      <th></th>\n",
       "      <th>Producto</th>\n",
       "      <th>Categoria</th>\n",
       "      <th>Unidades Vendidas</th>\n",
       "      <th>Precio Unitario</th>\n",
       "      <th>Total</th>\n",
       "    </tr>\n",
       "  </thead>\n",
       "  <tbody>\n",
       "    <tr>\n",
       "      <th>0</th>\n",
       "      <td>Laptop</td>\n",
       "      <td>Electrónica</td>\n",
       "      <td>15</td>\n",
       "      <td>800.0</td>\n",
       "      <td>12000</td>\n",
       "    </tr>\n",
       "    <tr>\n",
       "      <th>1</th>\n",
       "      <td>Mouse</td>\n",
       "      <td>Acceosorios</td>\n",
       "      <td>40</td>\n",
       "      <td>30.0</td>\n",
       "      <td>1200</td>\n",
       "    </tr>\n",
       "    <tr>\n",
       "      <th>2</th>\n",
       "      <td>Teclado</td>\n",
       "      <td>Accesorios</td>\n",
       "      <td>25</td>\n",
       "      <td>NaN</td>\n",
       "      <td>1125</td>\n",
       "    </tr>\n",
       "    <tr>\n",
       "      <th>3</th>\n",
       "      <td>Monitor</td>\n",
       "      <td>Electrónica</td>\n",
       "      <td>10</td>\n",
       "      <td>200.0</td>\n",
       "      <td>2000</td>\n",
       "    </tr>\n",
       "    <tr>\n",
       "      <th>4</th>\n",
       "      <td>Audífonos</td>\n",
       "      <td>Audio</td>\n",
       "      <td>30</td>\n",
       "      <td>70.0</td>\n",
       "      <td>2100</td>\n",
       "    </tr>\n",
       "  </tbody>\n",
       "</table>\n",
       "</div>"
      ],
      "text/plain": [
       "    Producto    Categoria  Unidades Vendidas  Precio Unitario  Total\n",
       "0     Laptop  Electrónica                 15            800.0  12000\n",
       "1      Mouse  Acceosorios                 40             30.0   1200\n",
       "2    Teclado   Accesorios                 25              NaN   1125\n",
       "3    Monitor  Electrónica                 10            200.0   2000\n",
       "4  Audífonos        Audio                 30             70.0   2100"
      ]
     },
     "execution_count": 67,
     "metadata": {},
     "output_type": "execute_result"
    }
   ],
   "source": [
    "print(\"Antes de limpiar:\")\n",
    "df.head()"
   ]
  },
  {
   "cell_type": "markdown",
   "id": "219c78a6",
   "metadata": {},
   "source": [
    "3. *Limpiamos los datos y mostramos.*"
   ]
  },
  {
   "cell_type": "code",
   "execution_count": 68,
   "id": "100214a9",
   "metadata": {},
   "outputs": [
    {
     "name": "stdout",
     "output_type": "stream",
     "text": [
      "Después de limpiar:\n"
     ]
    },
    {
     "data": {
      "text/html": [
       "<div>\n",
       "<style scoped>\n",
       "    .dataframe tbody tr th:only-of-type {\n",
       "        vertical-align: middle;\n",
       "    }\n",
       "\n",
       "    .dataframe tbody tr th {\n",
       "        vertical-align: top;\n",
       "    }\n",
       "\n",
       "    .dataframe thead th {\n",
       "        text-align: right;\n",
       "    }\n",
       "</style>\n",
       "<table border=\"1\" class=\"dataframe\">\n",
       "  <thead>\n",
       "    <tr style=\"text-align: right;\">\n",
       "      <th></th>\n",
       "      <th>Producto</th>\n",
       "      <th>Categoria</th>\n",
       "      <th>Unidades Vendidas</th>\n",
       "      <th>Precio Unitario</th>\n",
       "      <th>Total</th>\n",
       "    </tr>\n",
       "  </thead>\n",
       "  <tbody>\n",
       "    <tr>\n",
       "      <th>0</th>\n",
       "      <td>Laptop</td>\n",
       "      <td>Electrónica</td>\n",
       "      <td>15</td>\n",
       "      <td>800.0</td>\n",
       "      <td>12000</td>\n",
       "    </tr>\n",
       "    <tr>\n",
       "      <th>1</th>\n",
       "      <td>Mouse</td>\n",
       "      <td>Acceosorios</td>\n",
       "      <td>40</td>\n",
       "      <td>30.0</td>\n",
       "      <td>1200</td>\n",
       "    </tr>\n",
       "    <tr>\n",
       "      <th>3</th>\n",
       "      <td>Monitor</td>\n",
       "      <td>Electrónica</td>\n",
       "      <td>10</td>\n",
       "      <td>200.0</td>\n",
       "      <td>2000</td>\n",
       "    </tr>\n",
       "    <tr>\n",
       "      <th>4</th>\n",
       "      <td>Audífonos</td>\n",
       "      <td>Audio</td>\n",
       "      <td>30</td>\n",
       "      <td>70.0</td>\n",
       "      <td>2100</td>\n",
       "    </tr>\n",
       "  </tbody>\n",
       "</table>\n",
       "</div>"
      ],
      "text/plain": [
       "    Producto    Categoria  Unidades Vendidas  Precio Unitario  Total\n",
       "0     Laptop  Electrónica                 15            800.0  12000\n",
       "1      Mouse  Acceosorios                 40             30.0   1200\n",
       "3    Monitor  Electrónica                 10            200.0   2000\n",
       "4  Audífonos        Audio                 30             70.0   2100"
      ]
     },
     "execution_count": 68,
     "metadata": {},
     "output_type": "execute_result"
    }
   ],
   "source": [
    "df_limpio=df.dropna()\n",
    "\n",
    "print(\"Después de limpiar:\")\n",
    "df_limpio.head()"
   ]
  },
  {
   "cell_type": "markdown",
   "id": "6b64f5f2",
   "metadata": {},
   "source": [
    "**Ejercicio 6**: Visualización.\n",
    "- Graficar una columna con matplotlib.\n",
    "- Agregar título y etiquetas.\n",
    "- Explicar el gráfico en Markdown."
   ]
  },
  {
   "cell_type": "code",
   "execution_count": 69,
   "id": "c5e5cc44",
   "metadata": {
    "scrolled": true
   },
   "outputs": [
    {
     "data": {
      "image/png": "[encoded data removed]",
      "text/plain": [
       "<Figure size 800x500 with 1 Axes>"
      ]
     },
     "metadata": {},
     "output_type": "display_data"
    }
   ],
   "source": [
    "import matplotlib.pyplot as plt\n",
    "\n",
    "plt.figure(figsize=(8,5))\n",
    "plt.bar(df[\"Producto\"], df[\"Total\"], color=\"blue\")\n",
    "plt.title(\"Ventas Totales por Producto\")\n",
    "plt.xlabel(\"Producto\")\n",
    "plt.ylabel(\"Total en USD$\")\n",
    "plt.grid(True)\n",
    "plt.show()"
   ]
  },
  {
   "cell_type": "markdown",
   "id": "2390e936",
   "metadata": {},
   "source": [
    "> En el gráfico podemos observar que el producto con mayor venta fue **Laptop**"
   ]
  },
  {
   "cell_type": "markdown",
   "id": "bfb3f56b",
   "metadata": {},
   "source": [
    "**Ejercicio 7**: Función de cálculo\n",
    "- Crear una función calcular_descuento(precio, porcentaje).\n",
    "- Probarla con diferentes valores."
   ]
  },
  {
   "cell_type": "code",
   "execution_count": 70,
   "id": "69074719",
   "metadata": {},
   "outputs": [
    {
     "name": "stdout",
     "output_type": "stream",
     "text": [
      "27000.0\n",
      "48000.0\n"
     ]
    }
   ],
   "source": [
    "def calcular_descuento(precio, porcentaje):\n",
    "    return precio * (1 - porcentaje / 100)\n",
    "\n",
    "print(calcular_descuento(30000,10))\n",
    "\n",
    "print(calcular_descuento(60000,20))"
   ]
  },
  {
   "cell_type": "markdown",
   "id": "80c28f7f",
   "metadata": {},
   "source": [
    "**Ejercicio 8**: Módulo externo\n",
    "- Crear un archivo **utilidades.py** con funciones.\n",
    "- Importarlo en el notebook y usarlo."
   ]
  },
  {
   "cell_type": "code",
   "execution_count": 71,
   "id": "21743e42",
   "metadata": {},
   "outputs": [
    {
     "name": "stdout",
     "output_type": "stream",
     "text": [
      "El año 2025  No es bisiesto\n",
      "El descuento de 20% para el precio $ 35000 es: 28000.0\n"
     ]
    }
   ],
   "source": [
    "import utilidades as ut\n",
    "\n",
    "print(\"El año 2025 \",ut.valida_bisiesto(2025))\n",
    "print(\"El descuento de 20% para el precio $ 35000 es:\",ut.precio_descuento(35000, 20))"
   ]
  },
  {
   "cell_type": "markdown",
   "id": "854ae627",
   "metadata": {},
   "source": [
    "**Ejercicio 9**: Validación de datos\n",
    "- Crear una función que valide si un número esta entre 0 y 100.\n",
    "- Usar *try/except* para manejar errores."
   ]
  },
  {
   "cell_type": "code",
   "execution_count": 72,
   "id": "543a3277",
   "metadata": {},
   "outputs": [
    {
     "name": "stdout",
     "output_type": "stream",
     "text": [
      "El numero 50 es:  Número Valido\n",
      "El numero 300 es:  Número Inválido\n"
     ]
    }
   ],
   "source": [
    "def validacion_datos(numero):\n",
    "    try:\n",
    "        if 0 <= numero <= 100:\n",
    "            return \"Número Valido\"\n",
    "        else:\n",
    "            return \"Número Inválido\"\n",
    "\n",
    "    except ValueError:\n",
    "        print(\"Debes ingresar un numero Valido\")        \n",
    "\n",
    "print(\"El numero 50 es: \",validacion_datos(50))\n",
    "print(\"El numero 300 es: \",validacion_datos(300))"
   ]
  },
  {
   "cell_type": "markdown",
   "id": "ce280001",
   "metadata": {},
   "source": [
    "**Ejercicio 10**: Análisis de Datos\n",
    "- Generar el siguiente DataFrame:\n",
    "\n",
    "<table border=\"1\">\n",
    "  <thead>\n",
    "    <tr>\n",
    "      <th>Fruta</th>\n",
    "      <th>Precio Unidad</th>\n",
    "      <th>Unidades Vendidas</th>\n",
    "    </tr>\n",
    "  </thead>\n",
    "  <tbody>\n",
    "    <tr>\n",
    "      <td>Frutilla</td>\n",
    "      <td>250</td>\n",
    "      <td>2300</td>\n",
    "    </tr>\n",
    "    <tr>\n",
    "      <td>Pera</td>\n",
    "      <td>150</td>\n",
    "      <td>1800</td>\n",
    "    </tr>\n",
    "    <tr>\n",
    "      <td>Manzana</td>\n",
    "      <td>150</td>\n",
    "      <td>800</td>\n",
    "    </tr>\n",
    "    <tr>\n",
    "      <td>Plátano</td>\n",
    "      <td>200</td>\n",
    "      <td>3000</td>\n",
    "    </tr>\n",
    "    <tr>\n",
    "      <td>Naranja</td>\n",
    "      <td>145</td>\n",
    "      <td>1690</td>\n",
    "    </tr>\n",
    "    <tr>\n",
    "      <td>Limón</td>\n",
    "      <td>115</td>\n",
    "      <td>600</td>\n",
    "    </tr>\n",
    "  </tbody>\n",
    "</table>\n",
    "\n",
    "- Determinar el total de ventas\n",
    "- Generar un grafico de líneas y uno circular. El primero por total de ventas y el segundo por unidades vendidas."
   ]
  },
  {
   "cell_type": "markdown",
   "id": "6dd83f37",
   "metadata": {},
   "source": [
    "1. Generamos el DataFrame con **pandas**"
   ]
  },
  {
   "cell_type": "code",
   "execution_count": 73,
   "id": "54971817",
   "metadata": {},
   "outputs": [
    {
     "data": {
      "text/html": [
       "<div>\n",
       "<style scoped>\n",
       "    .dataframe tbody tr th:only-of-type {\n",
       "        vertical-align: middle;\n",
       "    }\n",
       "\n",
       "    .dataframe tbody tr th {\n",
       "        vertical-align: top;\n",
       "    }\n",
       "\n",
       "    .dataframe thead th {\n",
       "        text-align: right;\n",
       "    }\n",
       "</style>\n",
       "<table border=\"1\" class=\"dataframe\">\n",
       "  <thead>\n",
       "    <tr style=\"text-align: right;\">\n",
       "      <th></th>\n",
       "      <th>Fruta</th>\n",
       "      <th>Precio Unidad</th>\n",
       "      <th>Unidades Vendidas</th>\n",
       "    </tr>\n",
       "  </thead>\n",
       "  <tbody>\n",
       "    <tr>\n",
       "      <th>0</th>\n",
       "      <td>Frutilla</td>\n",
       "      <td>250</td>\n",
       "      <td>2300</td>\n",
       "    </tr>\n",
       "    <tr>\n",
       "      <th>1</th>\n",
       "      <td>Pera</td>\n",
       "      <td>150</td>\n",
       "      <td>1800</td>\n",
       "    </tr>\n",
       "    <tr>\n",
       "      <th>2</th>\n",
       "      <td>Manzana</td>\n",
       "      <td>150</td>\n",
       "      <td>800</td>\n",
       "    </tr>\n",
       "    <tr>\n",
       "      <th>3</th>\n",
       "      <td>Plátano</td>\n",
       "      <td>200</td>\n",
       "      <td>3000</td>\n",
       "    </tr>\n",
       "    <tr>\n",
       "      <th>4</th>\n",
       "      <td>Naranja</td>\n",
       "      <td>145</td>\n",
       "      <td>1690</td>\n",
       "    </tr>\n",
       "  </tbody>\n",
       "</table>\n",
       "</div>"
      ],
      "text/plain": [
       "      Fruta  Precio Unidad  Unidades Vendidas\n",
       "0  Frutilla            250               2300\n",
       "1      Pera            150               1800\n",
       "2   Manzana            150                800\n",
       "3   Plátano            200               3000\n",
       "4   Naranja            145               1690"
      ]
     },
     "execution_count": 73,
     "metadata": {},
     "output_type": "execute_result"
    }
   ],
   "source": [
    "import pandas as pd\n",
    "\n",
    "datos = {\n",
    "    \"Fruta\": [\"Frutilla\", \"Pera\", \"Manzana\", \"Plátano\", \"Naranja\", \"Limón\"],\n",
    "    \"Precio Unidad\": [250, 150, 150, 200, 145, 115],\n",
    "    \"Unidades Vendidas\": [2300, 1800, 800, 3000, 1690, 600]\n",
    "}\n",
    "\n",
    "# Crear el DataFrame\n",
    "df = pd.DataFrame(datos)\n",
    "\n",
    "# Mostrar el DataFrame\n",
    "df.head()"
   ]
  },
  {
   "cell_type": "markdown",
   "id": "2a51c090",
   "metadata": {},
   "source": [
    "2. Determinamos el Total de Ventas"
   ]
  },
  {
   "cell_type": "code",
   "execution_count": 74,
   "id": "ef8ee291",
   "metadata": {},
   "outputs": [
    {
     "data": {
      "text/html": [
       "<div>\n",
       "<style scoped>\n",
       "    .dataframe tbody tr th:only-of-type {\n",
       "        vertical-align: middle;\n",
       "    }\n",
       "\n",
       "    .dataframe tbody tr th {\n",
       "        vertical-align: top;\n",
       "    }\n",
       "\n",
       "    .dataframe thead th {\n",
       "        text-align: right;\n",
       "    }\n",
       "</style>\n",
       "<table border=\"1\" class=\"dataframe\">\n",
       "  <thead>\n",
       "    <tr style=\"text-align: right;\">\n",
       "      <th></th>\n",
       "      <th>Fruta</th>\n",
       "      <th>Precio Unidad</th>\n",
       "      <th>Unidades Vendidas</th>\n",
       "      <th>Total</th>\n",
       "    </tr>\n",
       "  </thead>\n",
       "  <tbody>\n",
       "    <tr>\n",
       "      <th>0</th>\n",
       "      <td>Frutilla</td>\n",
       "      <td>250</td>\n",
       "      <td>2300</td>\n",
       "      <td>575000</td>\n",
       "    </tr>\n",
       "    <tr>\n",
       "      <th>1</th>\n",
       "      <td>Pera</td>\n",
       "      <td>150</td>\n",
       "      <td>1800</td>\n",
       "      <td>270000</td>\n",
       "    </tr>\n",
       "    <tr>\n",
       "      <th>2</th>\n",
       "      <td>Manzana</td>\n",
       "      <td>150</td>\n",
       "      <td>800</td>\n",
       "      <td>120000</td>\n",
       "    </tr>\n",
       "    <tr>\n",
       "      <th>3</th>\n",
       "      <td>Plátano</td>\n",
       "      <td>200</td>\n",
       "      <td>3000</td>\n",
       "      <td>600000</td>\n",
       "    </tr>\n",
       "    <tr>\n",
       "      <th>4</th>\n",
       "      <td>Naranja</td>\n",
       "      <td>145</td>\n",
       "      <td>1690</td>\n",
       "      <td>245050</td>\n",
       "    </tr>\n",
       "  </tbody>\n",
       "</table>\n",
       "</div>"
      ],
      "text/plain": [
       "      Fruta  Precio Unidad  Unidades Vendidas   Total\n",
       "0  Frutilla            250               2300  575000\n",
       "1      Pera            150               1800  270000\n",
       "2   Manzana            150                800  120000\n",
       "3   Plátano            200               3000  600000\n",
       "4   Naranja            145               1690  245050"
      ]
     },
     "execution_count": 74,
     "metadata": {},
     "output_type": "execute_result"
    }
   ],
   "source": [
    "df[\"Total\"]=df[\"Precio Unidad\"]*df[\"Unidades Vendidas\"]\n",
    "\n",
    "df.head()"
   ]
  },
  {
   "cell_type": "markdown",
   "id": "fdda5ded",
   "metadata": {},
   "source": [
    "3. Generamos el Grafico de Lineas por Total de Ventas"
   ]
  },
  {
   "cell_type": "code",
   "execution_count": 75,
   "id": "a4460142",
   "metadata": {},
   "outputs": [
    {
     "data": {
      "image/png": "[encoded data removed]",
      "text/plain": [
       "<Figure size 800x500 with 2 Axes>"
      ]
     },
     "metadata": {},
     "output_type": "display_data"
    }
   ],
   "source": [
    "import matplotlib.pyplot as plt\n",
    "\n",
    "fig, ax1 = plt.subplots(figsize=(8, 5))\n",
    "\n",
    "# Primer eje Y: Ventas Totales\n",
    "ax1.plot(df[\"Fruta\"], df[\"Total\"], marker=\"o\", color=\"blue\", label=\"Ventas Totales\")\n",
    "ax1.set_xlabel(\"Fruta\")\n",
    "ax1.set_ylabel(\"Total ($)\", color=\"blue\")\n",
    "ax1.tick_params(axis=\"y\", labelcolor=\"blue\")\n",
    "\n",
    "# Segundo eje Y: Unidades Vendidas\n",
    "ax2 = ax1.twinx()\n",
    "ax2.plot(df[\"Fruta\"], df[\"Unidades Vendidas\"], marker=\"s\", color=\"red\", label=\"Unidades Vendidas\")\n",
    "ax2.set_ylabel(\"Unidades Vendidas\", color=\"red\")\n",
    "ax2.tick_params(axis=\"y\", labelcolor=\"red\")\n",
    "\n",
    "# Título y cuadrícula\n",
    "plt.title(\"Ventas Totales y Unidades Vendidas por Fruta\")\n",
    "fig.tight_layout()\n",
    "plt.grid(True)\n",
    "plt.show()\n"
   ]
  },
  {
   "cell_type": "markdown",
   "id": "3330d2c5",
   "metadata": {},
   "source": [
    "4. Generamos el Grafico Circular de Unidades Vendidas"
   ]
  },
  {
   "cell_type": "code",
   "execution_count": 76,
   "id": "834fb682",
   "metadata": {},
   "outputs": [
    {
     "data": {
      "image/png": "[encoded data removed]",
      "text/plain": [
       "<Figure size 600x600 with 1 Axes>"
      ]
     },
     "metadata": {},
     "output_type": "display_data"
    }
   ],
   "source": [
    "import matplotlib.pyplot as plt\n",
    "\n",
    "plt.figure(figsize=(6, 6))\n",
    "plt.pie(df[\"Unidades Vendidas\"], labels=df[\"Fruta\"], autopct=\"%1.1f%%\", startangle=90)\n",
    "plt.title(\"Unidades Vendidas por Fruta\")\n",
    "plt.tight_layout()\n",
    "plt.show()"
   ]
  },
  {
   "cell_type": "markdown",
   "id": "5b58b2e0",
   "metadata": {},
   "source": [
    "5. Podemos determinar lo siguiente revisando la informacion del DataFrame"
   ]
  },
  {
   "cell_type": "code",
   "execution_count": 77,
   "id": "94fcdeec",
   "metadata": {},
   "outputs": [],
   "source": [
    "producto_max = df[df[\"Precio Unidad\"] == df[\"Precio Unidad\"].max()]\n",
    "producto_min = df[df[\"Precio Unidad\"] == df[\"Precio Unidad\"].min()]\n",
    "producto_vmax = df[df[\"Total\"] == df[\"Total\"].max()]\n",
    "producto_vmin = df[df[\"Total\"] == df[\"Total\"].min()]"
   ]
  },
  {
   "cell_type": "code",
   "execution_count": 78,
   "id": "b902c343",
   "metadata": {},
   "outputs": [
    {
     "data": {
      "text/html": [
       "<div>\n",
       "<style scoped>\n",
       "    .dataframe tbody tr th:only-of-type {\n",
       "        vertical-align: middle;\n",
       "    }\n",
       "\n",
       "    .dataframe tbody tr th {\n",
       "        vertical-align: top;\n",
       "    }\n",
       "\n",
       "    .dataframe thead th {\n",
       "        text-align: right;\n",
       "    }\n",
       "</style>\n",
       "<table border=\"1\" class=\"dataframe\">\n",
       "  <thead>\n",
       "    <tr style=\"text-align: right;\">\n",
       "      <th></th>\n",
       "      <th>Fruta</th>\n",
       "      <th>Precio Unidad</th>\n",
       "      <th>Unidades Vendidas</th>\n",
       "      <th>Total</th>\n",
       "    </tr>\n",
       "  </thead>\n",
       "  <tbody>\n",
       "    <tr>\n",
       "      <th>0</th>\n",
       "      <td>Frutilla</td>\n",
       "      <td>250</td>\n",
       "      <td>2300</td>\n",
       "      <td>575000</td>\n",
       "    </tr>\n",
       "  </tbody>\n",
       "</table>\n",
       "</div>"
      ],
      "text/plain": [
       "      Fruta  Precio Unidad  Unidades Vendidas   Total\n",
       "0  Frutilla            250               2300  575000"
      ]
     },
     "execution_count": 78,
     "metadata": {},
     "output_type": "execute_result"
    }
   ],
   "source": [
    "#Producto con el precio más alto\n",
    "producto_max.head()"
   ]
  },
  {
   "cell_type": "code",
   "execution_count": 79,
   "id": "4ca1f692",
   "metadata": {},
   "outputs": [
    {
     "data": {
      "text/html": [
       "<div>\n",
       "<style scoped>\n",
       "    .dataframe tbody tr th:only-of-type {\n",
       "        vertical-align: middle;\n",
       "    }\n",
       "\n",
       "    .dataframe tbody tr th {\n",
       "        vertical-align: top;\n",
       "    }\n",
       "\n",
       "    .dataframe thead th {\n",
       "        text-align: right;\n",
       "    }\n",
       "</style>\n",
       "<table border=\"1\" class=\"dataframe\">\n",
       "  <thead>\n",
       "    <tr style=\"text-align: right;\">\n",
       "      <th></th>\n",
       "      <th>Fruta</th>\n",
       "      <th>Precio Unidad</th>\n",
       "      <th>Unidades Vendidas</th>\n",
       "      <th>Total</th>\n",
       "    </tr>\n",
       "  </thead>\n",
       "  <tbody>\n",
       "    <tr>\n",
       "      <th>5</th>\n",
       "      <td>Limón</td>\n",
       "      <td>115</td>\n",
       "      <td>600</td>\n",
       "      <td>69000</td>\n",
       "    </tr>\n",
       "  </tbody>\n",
       "</table>\n",
       "</div>"
      ],
      "text/plain": [
       "   Fruta  Precio Unidad  Unidades Vendidas  Total\n",
       "5  Limón            115                600  69000"
      ]
     },
     "execution_count": 79,
     "metadata": {},
     "output_type": "execute_result"
    }
   ],
   "source": [
    "#Producto con el precio más bajo\n",
    "producto_min.head()"
   ]
  },
  {
   "cell_type": "code",
   "execution_count": 80,
   "id": "8d199736",
   "metadata": {},
   "outputs": [
    {
     "data": {
      "text/html": [
       "<div>\n",
       "<style scoped>\n",
       "    .dataframe tbody tr th:only-of-type {\n",
       "        vertical-align: middle;\n",
       "    }\n",
       "\n",
       "    .dataframe tbody tr th {\n",
       "        vertical-align: top;\n",
       "    }\n",
       "\n",
       "    .dataframe thead th {\n",
       "        text-align: right;\n",
       "    }\n",
       "</style>\n",
       "<table border=\"1\" class=\"dataframe\">\n",
       "  <thead>\n",
       "    <tr style=\"text-align: right;\">\n",
       "      <th></th>\n",
       "      <th>Fruta</th>\n",
       "      <th>Precio Unidad</th>\n",
       "      <th>Unidades Vendidas</th>\n",
       "      <th>Total</th>\n",
       "    </tr>\n",
       "  </thead>\n",
       "  <tbody>\n",
       "    <tr>\n",
       "      <th>3</th>\n",
       "      <td>Plátano</td>\n",
       "      <td>200</td>\n",
       "      <td>3000</td>\n",
       "      <td>600000</td>\n",
       "    </tr>\n",
       "  </tbody>\n",
       "</table>\n",
       "</div>"
      ],
      "text/plain": [
       "     Fruta  Precio Unidad  Unidades Vendidas   Total\n",
       "3  Plátano            200               3000  600000"
      ]
     },
     "execution_count": 80,
     "metadata": {},
     "output_type": "execute_result"
    }
   ],
   "source": [
    "#Producto con el mayor ingreso por Ventas en $\n",
    "producto_vmax.head()"
   ]
  },
  {
   "cell_type": "code",
   "execution_count": 81,
   "id": "b26a07a6",
   "metadata": {},
   "outputs": [
    {
     "data": {
      "text/html": [
       "<div>\n",
       "<style scoped>\n",
       "    .dataframe tbody tr th:only-of-type {\n",
       "        vertical-align: middle;\n",
       "    }\n",
       "\n",
       "    .dataframe tbody tr th {\n",
       "        vertical-align: top;\n",
       "    }\n",
       "\n",
       "    .dataframe thead th {\n",
       "        text-align: right;\n",
       "    }\n",
       "</style>\n",
       "<table border=\"1\" class=\"dataframe\">\n",
       "  <thead>\n",
       "    <tr style=\"text-align: right;\">\n",
       "      <th></th>\n",
       "      <th>Fruta</th>\n",
       "      <th>Precio Unidad</th>\n",
       "      <th>Unidades Vendidas</th>\n",
       "      <th>Total</th>\n",
       "    </tr>\n",
       "  </thead>\n",
       "  <tbody>\n",
       "    <tr>\n",
       "      <th>5</th>\n",
       "      <td>Limón</td>\n",
       "      <td>115</td>\n",
       "      <td>600</td>\n",
       "      <td>69000</td>\n",
       "    </tr>\n",
       "  </tbody>\n",
       "</table>\n",
       "</div>"
      ],
      "text/plain": [
       "   Fruta  Precio Unidad  Unidades Vendidas  Total\n",
       "5  Limón            115                600  69000"
      ]
     },
     "execution_count": 81,
     "metadata": {},
     "output_type": "execute_result"
    }
   ],
   "source": [
    "#Producto con el menor ingreso por Ventas en $\n",
    "producto_vmin.head()"
   ]
  }
 ],
 "metadata": {
  "kernelspec": {
   "display_name": "Python 3",
   "language": "python",
   "name": "python3"
  },
  "language_info": {
   "codemirror_mode": {
    "name": "ipython",
    "version": 3
   },
   "file_extension": ".py",
   "mimetype": "text/x-python",
   "name": "python",
   "nbconvert_exporter": "python",
   "pygments_lexer": "ipython3",
   "version": "3.13.7"
  }
 },
 "nbformat": 4,
 "nbformat_minor": 5
}
