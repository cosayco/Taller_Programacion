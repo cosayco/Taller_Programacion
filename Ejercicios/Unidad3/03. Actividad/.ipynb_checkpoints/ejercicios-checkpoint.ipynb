{
 "cells": [
  {
   "cell_type": "markdown",
   "id": "8016c670",
   "metadata": {},
   "source": [
    "# 👋 Bienvenido al notebook\n",
    "***"
   ]
  },
  {
   "cell_type": "markdown",
   "id": "c114315a",
   "metadata": {},
   "source": [
    "**Ejercicio 1**: Saludo interactivo.\n",
    "- Crear una celda Markdown con título: # 👋 Bienvenida al notebook\n",
    "- Usar input() para pedir el nombre del usuario y saludarlo."
   ]
  },
  {
   "cell_type": "code",
   "execution_count": 9,
   "id": "9ad169a4",
   "metadata": {},
   "outputs": [
    {
     "name": "stdout",
     "output_type": "stream",
     "text": [
      "Hola Carlos, 👋 Bienvenido a la clase.\n"
     ]
    }
   ],
   "source": [
    "nombre=input(\"Ingrese su nombre:\")\n",
    "print(f\"Hola {nombre}, 👋 Bienvenido a la clase.\")"
   ]
  },
  {
   "cell_type": "markdown",
   "id": "51cf5c56",
   "metadata": {},
   "source": [
    "***"
   ]
  },
  {
   "cell_type": "markdown",
   "id": "4588d929",
   "metadata": {},
   "source": [
    "**Ejercicio 2**: Operaciones básicas.\n",
    "- Crear variables a, b y mostrar suma, resta, multiplicación y división.\n",
    "- Documentar cada operación con Markdown."
   ]
  },
  {
   "cell_type": "code",
   "execution_count": 10,
   "id": "001bd76f",
   "metadata": {},
   "outputs": [],
   "source": [
    "a=int(input(\"Ingrese Numero 1: \"))\n",
    "b=int(input(\"Ingrese Numero 2: \"))"
   ]
  },
  {
   "cell_type": "markdown",
   "id": "4795c8db",
   "metadata": {},
   "source": [
    "- La suma es:"
   ]
  },
  {
   "cell_type": "code",
   "execution_count": 11,
   "id": "5dbd0379",
   "metadata": {},
   "outputs": [
    {
     "name": "stdout",
     "output_type": "stream",
     "text": [
      "La Suma de 452 + 321 es: 773\n"
     ]
    }
   ],
   "source": [
    "print(f\"La Suma de {a} + {b} es: {a+b}\")"
   ]
  },
  {
   "cell_type": "markdown",
   "id": "ae9f365a",
   "metadata": {},
   "source": [
    "- La resta es:"
   ]
  },
  {
   "cell_type": "code",
   "execution_count": 12,
   "id": "5f0bfe95",
   "metadata": {},
   "outputs": [
    {
     "name": "stdout",
     "output_type": "stream",
     "text": [
      "La Resta de 452 - 321 es: 131\n"
     ]
    }
   ],
   "source": [
    "print(f\"La Resta de {a} - {b} es: {a-b}\")"
   ]
  },
  {
   "cell_type": "markdown",
   "id": "22d7615d",
   "metadata": {},
   "source": [
    "- La multiplicacion es:"
   ]
  },
  {
   "cell_type": "code",
   "execution_count": 13,
   "id": "0b416aca",
   "metadata": {},
   "outputs": [
    {
     "name": "stdout",
     "output_type": "stream",
     "text": [
      "La Multiplicacion de 452 * 321 es 145092\n"
     ]
    }
   ],
   "source": [
    "print(f\"La Multiplicacion de {a} * {b} es {a*b}\")"
   ]
  },
  {
   "cell_type": "markdown",
   "id": "5ac16f1f",
   "metadata": {},
   "source": [
    "- La division es:"
   ]
  },
  {
   "cell_type": "code",
   "execution_count": 14,
   "id": "adc8ee3b",
   "metadata": {},
   "outputs": [
    {
     "name": "stdout",
     "output_type": "stream",
     "text": [
      "La Division de 452 / 321 es 1.4080996884735202\n"
     ]
    }
   ],
   "source": [
    "print(f\"La Division de {a} / {b} es {a/b}\")"
   ]
  },
  {
   "cell_type": "markdown",
   "id": "72c3f4b2",
   "metadata": {},
   "source": [
    "***"
   ]
  },
  {
   "cell_type": "markdown",
   "id": "74c32af3",
   "metadata": {},
   "source": [
    "**Ejercicio 3**: Lista y bucles.\n",
    "- Crear una lista de frutas y recorrerla con for.\n",
    "- Agregar emojis y explicaciones en Markdown."
   ]
  },
  {
   "cell_type": "markdown",
   "id": "41049c69",
   "metadata": {},
   "source": [
    "*Generamos la lista de frutas con emojis*:"
   ]
  },
  {
   "cell_type": "code",
   "execution_count": 15,
   "id": "f1869179",
   "metadata": {},
   "outputs": [],
   "source": [
    "frutas=(\"🍐Pera\",\"🍎Manzana\",\"🍊Naranja\",\"🍓Frutilla\",\"🍌Platano\")"
   ]
  },
  {
   "cell_type": "markdown",
   "id": "70d60380",
   "metadata": {},
   "source": [
    "*Y la recorremos con un for para mostrar sus valores*:"
   ]
  },
  {
   "cell_type": "code",
   "execution_count": 16,
   "id": "5ada52d7",
   "metadata": {},
   "outputs": [
    {
     "name": "stdout",
     "output_type": "stream",
     "text": [
      "🍐Pera.\n",
      "🍎Manzana.\n",
      "🍊Naranja.\n",
      "🍓Frutilla.\n",
      "🍌Platano.\n"
     ]
    }
   ],
   "source": [
    "for fruta in frutas:\n",
    "    print(f\"{fruta}.\")"
   ]
  },
  {
   "cell_type": "markdown",
   "id": "a148d348",
   "metadata": {},
   "source": [
    "---"
   ]
  },
  {
   "cell_type": "markdown",
   "id": "92f6dda5",
   "metadata": {},
   "source": [
    "**Ejercicio 4**: Crear un Dataframe.\n",
    "- Usar **pandas** para crear un dataframe de ventas.\n",
    "- Mostrar las primeras filas con **df.head()**."
   ]
  },
  {
   "cell_type": "code",
   "execution_count": 17,
   "id": "87233fa6",
   "metadata": {},
   "outputs": [
    {
     "data": {
      "text/html": [
       "<div>\n",
       "<style scoped>\n",
       "    .dataframe tbody tr th:only-of-type {\n",
       "        vertical-align: middle;\n",
       "    }\n",
       "\n",
       "    .dataframe tbody tr th {\n",
       "        vertical-align: top;\n",
       "    }\n",
       "\n",
       "    .dataframe thead th {\n",
       "        text-align: right;\n",
       "    }\n",
       "</style>\n",
       "<table border=\"1\" class=\"dataframe\">\n",
       "  <thead>\n",
       "    <tr style=\"text-align: right;\">\n",
       "      <th></th>\n",
       "      <th>Producto</th>\n",
       "      <th>Categoria</th>\n",
       "      <th>Unidades Vendidas</th>\n",
       "      <th>Precio Unitario</th>\n",
       "      <th>Total</th>\n",
       "    </tr>\n",
       "  </thead>\n",
       "  <tbody>\n",
       "    <tr>\n",
       "      <th>0</th>\n",
       "      <td>Laptop</td>\n",
       "      <td>Electrónica</td>\n",
       "      <td>15</td>\n",
       "      <td>800</td>\n",
       "      <td>12000</td>\n",
       "    </tr>\n",
       "    <tr>\n",
       "      <th>1</th>\n",
       "      <td>Mouse</td>\n",
       "      <td>Acceosorios</td>\n",
       "      <td>40</td>\n",
       "      <td>20</td>\n",
       "      <td>800</td>\n",
       "    </tr>\n",
       "    <tr>\n",
       "      <th>2</th>\n",
       "      <td>Teclado</td>\n",
       "      <td>Accesorios</td>\n",
       "      <td>25</td>\n",
       "      <td>35</td>\n",
       "      <td>875</td>\n",
       "    </tr>\n",
       "    <tr>\n",
       "      <th>3</th>\n",
       "      <td>Monitor</td>\n",
       "      <td>Electrónica</td>\n",
       "      <td>10</td>\n",
       "      <td>200</td>\n",
       "      <td>2000</td>\n",
       "    </tr>\n",
       "    <tr>\n",
       "      <th>4</th>\n",
       "      <td>Audífonos</td>\n",
       "      <td>Audio</td>\n",
       "      <td>30</td>\n",
       "      <td>50</td>\n",
       "      <td>1500</td>\n",
       "    </tr>\n",
       "  </tbody>\n",
       "</table>\n",
       "</div>"
      ],
      "text/plain": [
       "    Producto    Categoria  Unidades Vendidas  Precio Unitario  Total\n",
       "0     Laptop  Electrónica                 15              800  12000\n",
       "1      Mouse  Acceosorios                 40               20    800\n",
       "2    Teclado   Accesorios                 25               35    875\n",
       "3    Monitor  Electrónica                 10              200   2000\n",
       "4  Audífonos        Audio                 30               50   1500"
      ]
     },
     "execution_count": 17,
     "metadata": {},
     "output_type": "execute_result"
    }
   ],
   "source": [
    "import pandas as pd\n",
    "\n",
    "datos_ventas = {\n",
    "    \"Producto\": [\"Laptop\", \"Mouse\", \"Teclado\", \"Monitor\", \"Audífonos\"],\n",
    "    \"Categoria\": [\"Electrónica\", \"Acceosorios\",\"Accesorios\",\"Electrónica\",\"Audio\"],\n",
    "    \"Unidades Vendidas\": [15, 40, 25, 10, 30],\n",
    "    \"Precio Unitario\": [800, 20, 35, 200, 50]\n",
    "}\n",
    "\n",
    "df=pd.DataFrame(datos_ventas)\n",
    "df[\"Total\"]=df[\"Unidades Vendidas\"] * df[\"Precio Unitario\"]\n",
    "df.head()\n",
    "#print(df.head())"
   ]
  },
  {
   "cell_type": "markdown",
   "id": "3033976f",
   "metadata": {},
   "source": [
    "**Ejercicio 5**: Limpieza básica.\n",
    "- Eliminar valores nulos y mostrar el resultado.\n",
    "- Documentar el proceso con Markdown."
   ]
  },
  {
   "cell_type": "markdown",
   "id": "7186ac6c",
   "metadata": {},
   "source": [
    "1. Generamos un valor Nulo"
   ]
  },
  {
   "cell_type": "code",
   "execution_count": 18,
   "id": "14673ca2",
   "metadata": {},
   "outputs": [],
   "source": [
    "df.loc[2, \"Precio Unitario\"] = None"
   ]
  },
  {
   "cell_type": "markdown",
   "id": "5698c25c",
   "metadata": {},
   "source": [
    "2. Mostramos los datos antes de limpiar."
   ]
  },
  {
   "cell_type": "code",
   "execution_count": 19,
   "id": "eb5dded1",
   "metadata": {},
   "outputs": [
    {
     "name": "stdout",
     "output_type": "stream",
     "text": [
      "Antes de limpiar:\n"
     ]
    },
    {
     "data": {
      "text/html": [
       "<div>\n",
       "<style scoped>\n",
       "    .dataframe tbody tr th:only-of-type {\n",
       "        vertical-align: middle;\n",
       "    }\n",
       "\n",
       "    .dataframe tbody tr th {\n",
       "        vertical-align: top;\n",
       "    }\n",
       "\n",
       "    .dataframe thead th {\n",
       "        text-align: right;\n",
       "    }\n",
       "</style>\n",
       "<table border=\"1\" class=\"dataframe\">\n",
       "  <thead>\n",
       "    <tr style=\"text-align: right;\">\n",
       "      <th></th>\n",
       "      <th>Producto</th>\n",
       "      <th>Categoria</th>\n",
       "      <th>Unidades Vendidas</th>\n",
       "      <th>Precio Unitario</th>\n",
       "      <th>Total</th>\n",
       "    </tr>\n",
       "  </thead>\n",
       "  <tbody>\n",
       "    <tr>\n",
       "      <th>0</th>\n",
       "      <td>Laptop</td>\n",
       "      <td>Electrónica</td>\n",
       "      <td>15</td>\n",
       "      <td>800.0</td>\n",
       "      <td>12000</td>\n",
       "    </tr>\n",
       "    <tr>\n",
       "      <th>1</th>\n",
       "      <td>Mouse</td>\n",
       "      <td>Acceosorios</td>\n",
       "      <td>40</td>\n",
       "      <td>20.0</td>\n",
       "      <td>800</td>\n",
       "    </tr>\n",
       "    <tr>\n",
       "      <th>2</th>\n",
       "      <td>Teclado</td>\n",
       "      <td>Accesorios</td>\n",
       "      <td>25</td>\n",
       "      <td>NaN</td>\n",
       "      <td>875</td>\n",
       "    </tr>\n",
       "    <tr>\n",
       "      <th>3</th>\n",
       "      <td>Monitor</td>\n",
       "      <td>Electrónica</td>\n",
       "      <td>10</td>\n",
       "      <td>200.0</td>\n",
       "      <td>2000</td>\n",
       "    </tr>\n",
       "    <tr>\n",
       "      <th>4</th>\n",
       "      <td>Audífonos</td>\n",
       "      <td>Audio</td>\n",
       "      <td>30</td>\n",
       "      <td>50.0</td>\n",
       "      <td>1500</td>\n",
       "    </tr>\n",
       "  </tbody>\n",
       "</table>\n",
       "</div>"
      ],
      "text/plain": [
       "    Producto    Categoria  Unidades Vendidas  Precio Unitario  Total\n",
       "0     Laptop  Electrónica                 15            800.0  12000\n",
       "1      Mouse  Acceosorios                 40             20.0    800\n",
       "2    Teclado   Accesorios                 25              NaN    875\n",
       "3    Monitor  Electrónica                 10            200.0   2000\n",
       "4  Audífonos        Audio                 30             50.0   1500"
      ]
     },
     "execution_count": 19,
     "metadata": {},
     "output_type": "execute_result"
    }
   ],
   "source": [
    "print(\"Antes de limpiar:\")\n",
    "df.head()"
   ]
  },
  {
   "cell_type": "markdown",
   "id": "219c78a6",
   "metadata": {},
   "source": [
    "3. Limpiamos los datos y mostramos."
   ]
  },
  {
   "cell_type": "code",
   "execution_count": 20,
   "id": "100214a9",
   "metadata": {},
   "outputs": [
    {
     "name": "stdout",
     "output_type": "stream",
     "text": [
      "Después de limpiar:\n"
     ]
    },
    {
     "data": {
      "text/html": [
       "<div>\n",
       "<style scoped>\n",
       "    .dataframe tbody tr th:only-of-type {\n",
       "        vertical-align: middle;\n",
       "    }\n",
       "\n",
       "    .dataframe tbody tr th {\n",
       "        vertical-align: top;\n",
       "    }\n",
       "\n",
       "    .dataframe thead th {\n",
       "        text-align: right;\n",
       "    }\n",
       "</style>\n",
       "<table border=\"1\" class=\"dataframe\">\n",
       "  <thead>\n",
       "    <tr style=\"text-align: right;\">\n",
       "      <th></th>\n",
       "      <th>Producto</th>\n",
       "      <th>Categoria</th>\n",
       "      <th>Unidades Vendidas</th>\n",
       "      <th>Precio Unitario</th>\n",
       "      <th>Total</th>\n",
       "    </tr>\n",
       "  </thead>\n",
       "  <tbody>\n",
       "    <tr>\n",
       "      <th>0</th>\n",
       "      <td>Laptop</td>\n",
       "      <td>Electrónica</td>\n",
       "      <td>15</td>\n",
       "      <td>800.0</td>\n",
       "      <td>12000</td>\n",
       "    </tr>\n",
       "    <tr>\n",
       "      <th>1</th>\n",
       "      <td>Mouse</td>\n",
       "      <td>Acceosorios</td>\n",
       "      <td>40</td>\n",
       "      <td>20.0</td>\n",
       "      <td>800</td>\n",
       "    </tr>\n",
       "    <tr>\n",
       "      <th>3</th>\n",
       "      <td>Monitor</td>\n",
       "      <td>Electrónica</td>\n",
       "      <td>10</td>\n",
       "      <td>200.0</td>\n",
       "      <td>2000</td>\n",
       "    </tr>\n",
       "    <tr>\n",
       "      <th>4</th>\n",
       "      <td>Audífonos</td>\n",
       "      <td>Audio</td>\n",
       "      <td>30</td>\n",
       "      <td>50.0</td>\n",
       "      <td>1500</td>\n",
       "    </tr>\n",
       "  </tbody>\n",
       "</table>\n",
       "</div>"
      ],
      "text/plain": [
       "    Producto    Categoria  Unidades Vendidas  Precio Unitario  Total\n",
       "0     Laptop  Electrónica                 15            800.0  12000\n",
       "1      Mouse  Acceosorios                 40             20.0    800\n",
       "3    Monitor  Electrónica                 10            200.0   2000\n",
       "4  Audífonos        Audio                 30             50.0   1500"
      ]
     },
     "execution_count": 20,
     "metadata": {},
     "output_type": "execute_result"
    }
   ],
   "source": [
    "df_limpio=df.dropna()\n",
    "\n",
    "print(\"Después de limpiar:\")\n",
    "df_limpio.head()"
   ]
  },
  {
   "cell_type": "markdown",
   "id": "6b64f5f2",
   "metadata": {},
   "source": [
    "**Ejercicio 6**: Visualización.\n",
    "- Graficar una columna con matplotlib.\n",
    "- Agregar título y etiquetas.\n",
    "- Explicar el gráfico en Markdown."
   ]
  },
  {
   "cell_type": "code",
   "execution_count": 21,
   "id": "c5e5cc44",
   "metadata": {},
   "outputs": [
    {
     "data": {
      "image/png": "[encoded data removed]",
      "text/plain": [
       "<Figure size 800x500 with 1 Axes>"
      ]
     },
     "metadata": {},
     "output_type": "display_data"
    }
   ],
   "source": [
    "import matplotlib.pyplot as plt\n",
    "\n",
    "plt.figure(figsize=(8,5))\n",
    "plt.bar(df[\"Producto\"], df[\"Total\"], color=\"blue\")\n",
    "plt.title(\"Ventas Totales por Producto\")\n",
    "plt.xlabel(\"Producto\")\n",
    "plt.ylabel(\"Total en USD$\")\n",
    "plt.grid(True)\n",
    "plt.show()"
   ]
  }
 ],
 "metadata": {
  "kernelspec": {
   "display_name": "Python 3",
   "language": "python",
   "name": "python3"
  },
  "language_info": {
   "codemirror_mode": {
    "name": "ipython",
    "version": 3
   },
   "file_extension": ".py",
   "mimetype": "text/x-python",
   "name": "python",
   "nbconvert_exporter": "python",
   "pygments_lexer": "ipython3",
   "version": "3.13.7"
  }
 },
 "nbformat": 4,
 "nbformat_minor": 5
}
