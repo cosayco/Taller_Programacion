{
 "cells": [
  {
   "cell_type": "markdown",
   "id": "43ae6365",
   "metadata": {},
   "source": [
    "## Ejercicios Evaluacion - Unidad II\n",
    "- #### Taller de Programacion\n",
    "- ##### Autor: Carlos Duran Palape\n",
    "***"
   ]
  },
  {
   "cell_type": "markdown",
   "id": "dc1cbf95",
   "metadata": {},
   "source": [
    "**Ejercicio 1**: Módulo de Gestión de Listas (gestion_datos.py).\n",
    "\n",
    "Requerimientos:\n",
    "1. Crea un archivo llamado gestion_datos.py.\n",
    "2. Dentro, define una función llamada agregar_elemento(lista, elemento) que use el método .append() para añadir el elemento a la lista y retorne la lista modificada.\n",
    "\n",
    "En el archivo principal:\n",
    "1. Importa la función agregar_elemento.\n",
    "2. Define una lista inicial: muestras = [10.5, 12.0].\n",
    "3. Llama a la función importada para agregar el valor 8.9 a la lista muestras.\n",
    "4. Imprime el resultado."
   ]
  },
  {
   "cell_type": "code",
   "execution_count": 1,
   "id": "3eb7cff7",
   "metadata": {},
   "outputs": [
    {
     "name": "stdout",
     "output_type": "stream",
     "text": [
      "Lista inicial: [10.5, 12.0]\n",
      "Lista después de agregar 8.9: [10.5, 12.0, 8.9]\n"
     ]
    }
   ],
   "source": [
    "#gestion_datos.py\n",
    "def agregar_elemento(lista, elemento):\n",
    "    #Agrega un elemento al final de la lista y la retorna.\n",
    "    lista.append(elemento)\n",
    "    return lista\n",
    "\n",
    "#main.py\n",
    "from modulos.gestion_datos import agregar_elemento\n",
    "muestras=[10.5, 12.0]\n",
    "print(f\"Lista inicial: {muestras}\")\n",
    "\n",
    "muestras_modificadas=agregar_elemento(muestras,8.9)\n",
    "print(f\"Lista después de agregar 8.9: {muestras_modificadas}\")"
   ]
  },
  {
   "cell_type": "markdown",
   "id": "af6ad973",
   "metadata": {},
   "source": [
    "**Ejercicio 2**: Módulo de Manipulación de Diccionarios (configuración.py)\n",
    "\n",
    "Requerimientos:\n",
    "1. Crea un archivo llamado configuracion.py.\n",
    "2. Dentro, define una función llamada obtener_valor(diccionario, clave) que retorne el valor asociado a la clave en el diccionario usando corchetes [].\n",
    "\n",
    "En el archivo principal (main.py):\n",
    "1. Define un diccionario: params = {'velocidad': 50, 'temperatura': 25}.\n",
    "2. Importa la función obtener_valor.\n",
    "3. Llama a la función importada para obtener el valor de la clave 'velocidad'.\n",
    "4. Imprime el valor obtenido con un texto descriptivo.\n",
    "\n"
   ]
  },
  {
   "cell_type": "code",
   "execution_count": 2,
   "id": "2f7437dd",
   "metadata": {},
   "outputs": [
    {
     "name": "stdout",
     "output_type": "stream",
     "text": [
      "El valor de la clave 'velocidad' es: 50\n"
     ]
    }
   ],
   "source": [
    "#configuracion.py\n",
    "def obtener_valor(diccionario, clave):\n",
    "    #Retorna el valor asociado a una clave en el diccionario.\n",
    "    return diccionario[clave]\n",
    "\n",
    "#main.py\n",
    "from modulos.configuracion import obtener_valor\n",
    "params={'velocidad':50, 'temperatura':25}\n",
    "\n",
    "valor_velocidad=obtener_valor(params,'velocidad')\n",
    "print(f\"El valor de la clave 'velocidad' es: {valor_velocidad}\")"
   ]
  },
  {
   "cell_type": "markdown",
   "id": "e9ccec15",
   "metadata": {},
   "source": [
    "**Ejercicio 3**: Módulo de Operaciones con Tuplas (coordenadas.py)\n",
    "\n",
    "Requerimientos:\n",
    "\n",
    "1. Crea un archivo llamado coordenadas.py.\n",
    "2. Define una función llamada obtener_tercer_elemento(tupla) que reciba una tupla y retorne el elemento en la posición 2 (índice 2).\n",
    "\n",
    "En el archivo principal (main.py):\n",
    "\n",
    "1. Define una tupla inmutable: punto_3d = (15.5, 20.2, 5.8).\n",
    "2. Importa y llama a la función obtener_tercer_elemento con punto_3d.\n",
    "3. Imprime el resultado.\n"
   ]
  },
  {
   "cell_type": "markdown",
   "id": "695eef38",
   "metadata": {},
   "source": [
    "**Ejercicio 4**: Módulo de Transformación de Datos (transformaciones.py)\n",
    "\n",
    "Requerimientos:\n",
    "\n",
    "1. Crea un archivo llamado transformaciones.py.\n",
    "2. Define una función llamada normalizar(datos) que reciba una lista de números. La función debe utilizar la función map() junto con una función lambda para dividir cada número por 100 y devolver la lista de resultados.\n",
    "\n",
    "En el archivo principal (main.py):\n",
    "\n",
    "1. Define una lista de mediciones: lecturas = [500, 750, 1200, 300].\n",
    "2. Importa la función normalizar.\n",
    "3. Llama a la función importada con lecturas y guarda la lista normalizada resultante.\n",
    "4. Imprime la lista normalizada.\n"
   ]
  },
  {
   "cell_type": "markdown",
   "id": "acdc15aa",
   "metadata": {},
   "source": [
    "**Ejercicio 5**: Módulo de Procesamiento de NumPy (analisis_numerico.py)\n",
    "\n",
    "Requerimientos:\n",
    "1. Crea un archivo llamado analisis_numerico.py.\n",
    "2. Dentro de este archivo, importa la librería NumPy como np.\n",
    "3. Define una función llamada suma_vectorizada(array1, array2) que reciba dos arrays de NumPy y retorne la suma vectorizada de ambos.\n",
    "\n",
    "En el archivo principal (main.py):\n",
    "1. Importa NumPy como np.\n",
    "2. Crea dos arrays de NumPy: a = np.array([1, 2, 3]) y b = np.array([4, 5, 6]).\n",
    "3. Importa la función suma_vectorizada del módulo.\n",
    "4. Llama a la función importada con los arrays a y b.\n",
    "5. Imprime el array resultante.\n"
   ]
  },
  {
   "cell_type": "markdown",
   "id": "6c6d51da",
   "metadata": {},
   "source": [
    "**Ejercicio 6**: Módulo de Creación de Arrays (generacion_datos.py)\n",
    "\n",
    "Requerimientos:\n",
    "1. Crea un archivo llamado generacion_datos.py.\n",
    "2. Dentro, importa NumPy como np.\n",
    "3. Define una función llamada serie_temporal(inicio, fin, num_puntos) que utilice np.linspace() para crear y retornar un array con num_puntos espaciados uniformemente entre inicio y fin (incluyendo ambos).\n",
    "\n",
    "En el archivo principal (main.py):\n",
    "1. Importa la función serie_temporal.\n",
    "2. Llama a la función para generar una serie de 5 puntos entre 0 y 1.\n",
    "3. Imprime el array generado.\n"
   ]
  },
  {
   "cell_type": "markdown",
   "id": "897e945f",
   "metadata": {},
   "source": [
    "**Ejercicio 7**: Módulo para Cálculo de Producto Escalar (algebra.py)\n",
    "\n",
    "Requerimientos:\n",
    "1. Crea un archivo llamado algebra.py.\n",
    "2. Dentro, importa NumPy como np.\n",
    "3. Define una función llamada producto_punto(v1, v2) que use el método .dot() para calcular y retornar el producto escalar (punto) entre los arrays de NumPy v1 y v2.\n",
    "\n",
    "En el archivo principal (main.py):\n",
    "1. Importa NumPy como np.\n",
    "2. Crea dos vectores: v_a = np.array([2, 0, 1]) y v_b = np.array([1, 3, 4]).\n",
    "3. Importa la función producto_punto.\n",
    "4. Llama a la función con v_a y v_b.\n",
    "5. Imprime el resultado numérico.\n"
   ]
  },
  {
   "cell_type": "code",
   "execution_count": 2,
   "id": "6a877167",
   "metadata": {},
   "outputs": [
    {
     "name": "stdout",
     "output_type": "stream",
     "text": [
      "Vector A: [2 0 1]\n",
      "Vector B: [1 3 4]\n",
      "Producto punto (A · B): 6\n"
     ]
    }
   ],
   "source": [
    "#algebra.py\n",
    "import numpy as np\n",
    "\n",
    "def producto_punto(v1, v2):\n",
    "    \"\"\"Calcula y retorna el producto escalar (punto) entre dos arrays de NumPy.\"\"\"\n",
    "    # Uso del método .dot()\n",
    "    return v1.dot(v2)\n",
    "\n",
    "#main.py\n",
    "import numpy as np\n",
    "from modulos.algebra import producto_punto\n",
    "\n",
    "# 1. Crear vectores\n",
    "v_a = np.array([2, 0, 1])\n",
    "v_b = np.array([1, 3, 4])\n",
    "print(f\"Vector A: {v_a}\")\n",
    "print(f\"Vector B: {v_b}\")\n",
    "\n",
    "# 2. Llamar a la función importada\n",
    "resultado_escalar = producto_punto(v_a, v_b)\n",
    "\n",
    "# 3. Imprimir el resultado numérico\n",
    "print(f\"Producto punto (A · B): {resultado_escalar}\")"
   ]
  },
  {
   "cell_type": "markdown",
   "id": "a16296c3",
   "metadata": {},
   "source": [
    "**Ejercicio 8**: Módulo de Formato de Datos (reportes.py)\n",
    "\n",
    "Requerimientos:\n",
    "1. Crea un archivo llamado reportes.py.\n",
    "2. Define una función llamada imprimir_datos_iterados(datos) que reciba una lista datos. \n",
    "3. La función debe utilizar enumerate() para iterar sobre la lista e imprimir cada valor junto con su índice, empezando a contar desde 1 (ej: \"Item 1: 45\"). \n",
    "4. La función no necesita retornar nada (None).\n",
    "\n",
    "En el archivo principal (main.py):\n",
    "1. Define una lista de valores: niveles = [45, 52, 48].\n",
    "2. Importa la función imprimir_datos_iterados.\n",
    "3. Llama a la función con niveles.\n"
   ]
  },
  {
   "cell_type": "code",
   "execution_count": 1,
   "id": "f378d956",
   "metadata": {},
   "outputs": [
    {
     "name": "stdout",
     "output_type": "stream",
     "text": [
      "\n",
      "--- Reporte de Niveles ---\n",
      "Item 1: 45\n",
      "Item 2: 52\n",
      "Item 3: 48\n"
     ]
    }
   ],
   "source": [
    "#reportes.py\n",
    "def imprimir_datos_iterados(datos):\n",
    "    \"\"\"\n",
    "    Itera sobre la lista de datos usando enumerate() e imprime\n",
    "    cada valor con su índice comenzando en 1.\n",
    "    \"\"\"\n",
    "    print(\"\\n--- Reporte de Niveles ---\")\n",
    "    for i, valor in enumerate(datos):\n",
    "        # i + 1 convierte el índice base 0 a conteo base 1\n",
    "        print(f\"Item {i + 1}: {valor}\")\n",
    "\n",
    "#main.py\n",
    "from modulos.reportes import imprimir_datos_iterados\n",
    "\n",
    "# 1. Definir lista de valores\n",
    "niveles = [45, 52, 48]\n",
    "\n",
    "# 2. Llamar a la función importada\n",
    "imprimir_datos_iterados(niveles)"
   ]
  },
  {
   "cell_type": "markdown",
   "id": "18da576e",
   "metadata": {},
   "source": [
    "**Ejercicio 9**: Módulo de Emparejamiento de Datos (utilidades.py)\n",
    "\n",
    "Requerimientos:\n",
    "1. Crea un archivo llamado utilidades.py.\n",
    "2. Define una función llamada emparejar_datos(claves, valores) que reciba dos listas. \n",
    "3. La función debe utilizar zip() para iterar sobre ambas y retornar una lista de tuplas con los pares emparejados.\n",
    "\n",
    "En el archivo principal (main.py):\n",
    "1. Define dos listas: nombres = ['SondaA', 'SondaB'] y valores = [150, 220].\n",
    "2. Importa la función emparejar_datos.\n",
    "3. Llama a la función y guarda el resultado en una variable.\n",
    "4. Imprime la lista de tuplas resultante.\n"
   ]
  },
  {
   "cell_type": "code",
   "execution_count": 10,
   "id": "28d7f5cc",
   "metadata": {},
   "outputs": [
    {
     "name": "stdout",
     "output_type": "stream",
     "text": [
      "Pares de datos emparejados: [('SondaA', 150), ('SondaB', 220)]\n"
     ]
    }
   ],
   "source": [
    "#utilidades.py\n",
    "def emparejar_datos(claves, valores):\n",
    "    \"\"\"\n",
    "    Utiliza zip() para emparejar elementos de dos listas y retorna\n",
    "    una lista de tuplas con los pares.\n",
    "    \"\"\"\n",
    "    return list(zip(claves, valores))\n",
    "\n",
    "#main.py\n",
    "from modulos.utilidades import emparejar_datos\n",
    "\n",
    "# 1. Definir las dos listas\n",
    "nombres = ['SondaA', 'SondaB']\n",
    "valores = [150, 220]\n",
    "\n",
    "# 2. Llamar a la función y guardar el resultado\n",
    "pares_datos = emparejar_datos(nombres, valores)\n",
    "\n",
    "# 3. Imprimir el resultado\n",
    "print(f\"Pares de datos emparejados: {pares_datos}\")"
   ]
  },
  {
   "cell_type": "markdown",
   "id": "76f6350e",
   "metadata": {},
   "source": [
    "**Ejercicio 10**: Módulo de Operaciones Compuestas (Reestructuración) (calculos_compuestos.py)\n",
    "\n",
    "Requerimientos:\n",
    "1. Crea un archivo llamado calculos_compuestos.py.\n",
    "2. Dentro, define una función llamada aplicar_correccion(vector_np) que reciba un array de NumPy. \n",
    "3. La función debe aplicar una corrección vectorizada Valor Corregido = (Valor Original + 5) / 2 y retornar el array corregido.\n",
    "\n",
    "En el archivo principal (main.py):\n",
    "1. Importa NumPy como np.\n",
    "2. Crea un array de NumPy: mediciones = np.array([10, 20, 30]).\n",
    "3. Importa la función aplicar_correccion.\n",
    "4. Llama a la función y guarda el array corregido.\n",
    "5. Imprime el resultado.\n"
   ]
  },
  {
   "cell_type": "code",
   "execution_count": null,
   "id": "2629e8a4",
   "metadata": {},
   "outputs": [],
   "source": [
    "#calculos_compuestos.py\n",
    "import numpy as np\n",
    "\n",
    "def aplicar_correccion(vector_np):\n",
    "    \"\"\"\n",
    "    Aplica la corrección vectorizada: (Valor Original + 5) / 2\n",
    "    y retorna el array corregido.\n",
    "    \"\"\"\n",
    "    # Operación vectorizada\n",
    "    return (vector_np + 5) / 2\n",
    "\n",
    "#main.py\n",
    "import numpy as np\n",
    "from modulos.calculos_compuestos import aplicar_correccion\n",
    "\n",
    "# 1. Crear array de NumPy\n",
    "mediciones = np.array([10, 20, 30])\n",
    "print(f\"Mediciones originales: {mediciones}\")\n",
    "\n",
    "# 2. Llamar a la función importada\n",
    "mediciones_corregidas = aplicar_correccion(mediciones)\n",
    "\n",
    "# 3. Imprimir el array corregido\n",
    "print(f\"Mediciones corregidas: {mediciones_corregidas}\")"
   ]
  },
  {
   "cell_type": "markdown",
   "id": "387c7c6a",
   "metadata": {},
   "source": [
    "**Ejercicio 11**: Módulo de Inicialización de Arrays con Ceros (inicializador.py)\n",
    "\n",
    "Requerimientos:\n",
    "1. Crea un archivo llamado inicializador.py.\n",
    "2. Dentro, importa NumPy como np.\n",
    "3. Define una función llamada crear_matriz_ceros(filas, columnas) que reciba las dimensiones y utilice np.zeros() para crear y retornar una matriz de NumPy llena de ceros.\n",
    "\n",
    "En el archivo principal (main.py):\n",
    "1. Importa la función crear_matriz_ceros.\n",
    "2. Llama a la función para generar una matriz de 3 x 4.\n",
    "3. Imprime la matriz resultante."
   ]
  },
  {
   "cell_type": "code",
   "execution_count": 9,
   "id": "dbe218f6",
   "metadata": {},
   "outputs": [
    {
     "name": "stdout",
     "output_type": "stream",
     "text": [
      "Matriz de 3x4 generada con ceros:\n",
      "[[0. 0. 0. 0.]\n",
      " [0. 0. 0. 0.]\n",
      " [0. 0. 0. 0.]]\n"
     ]
    }
   ],
   "source": [
    "#inicializador.py\n",
    "import numpy as np\n",
    "\n",
    "def crear_matriz_ceros(filas, columnas):\n",
    "    \"\"\"Crea y retorna una matriz de NumPy llena de ceros con las dimensiones dadas.\"\"\"\n",
    "    return np.zeros((filas, columnas))\n",
    "\n",
    "#main.py\n",
    "from modulos.inicializador import crear_matriz_ceros\n",
    "\n",
    "# Llamar a la función para generar una matriz 3x4\n",
    "matriz = crear_matriz_ceros(3, 4)\n",
    "\n",
    "print(\"Matriz de 3x4 generada con ceros:\")\n",
    "print(matriz)"
   ]
  },
  {
   "cell_type": "markdown",
   "id": "9b67972b",
   "metadata": {},
   "source": [
    "**Ejercicio 12**: Módulo de Filtrado de Datos (filtros.py)\n",
    "\n",
    "Requerimientos:\n",
    "1. Crea un archivo llamado filtros.py.\n",
    "2. Define una función llamada filtrar_mayores_a(datos, umbral) que reciba una lista datos y un umbral. La función debe utilizar la función filter() junto con una función lambda para retornar solo los elementos de datos que sean estrictamente mayores que el umbral.\n",
    "\n",
    "En el archivo principal (main.py):\n",
    "1. Define una lista de temperaturas: temps = [25.1, 18.5, 30.0, 22.9].\n",
    "2. Importa la función filtrar_mayores_a.\n",
    "3. Llama a la función importada para encontrar las temperaturas mayores a 23.0.\n",
    "4. Imprime la lista resultante.\n"
   ]
  },
  {
   "cell_type": "code",
   "execution_count": 8,
   "id": "6f050f2d",
   "metadata": {},
   "outputs": [
    {
     "name": "stdout",
     "output_type": "stream",
     "text": [
      "Temperaturas originales: [25.1, 18.5, 30.0, 22.9]\n",
      "Temperaturas mayores a 23.0°C: [25.1, 30.0]\n"
     ]
    }
   ],
   "source": [
    "#filtros.py\n",
    "def filtrar_mayores_a(datos, umbral):\n",
    "    \"\"\"\n",
    "    Filtra y retorna los elementos de una lista que son mayores que el umbral,\n",
    "    usando filter() y lambda.\n",
    "    \"\"\"\n",
    "    # La lambda verifica si x es mayor que el umbral\n",
    "    resultado = list(filter(lambda x: x > umbral, datos))\n",
    "    return resultado\n",
    "\n",
    "#main.py\n",
    "from modulos.filtros import filtrar_mayores_a\n",
    "\n",
    "# Lista de temperaturas\n",
    "temps = [25.1, 18.5, 30.0, 22.9]\n",
    "umbral = 23.0\n",
    "\n",
    "# Llamar a la función importada\n",
    "altas = filtrar_mayores_a(temps, umbral)\n",
    "\n",
    "print(f\"Temperaturas originales: {temps}\")\n",
    "print(f\"Temperaturas mayores a {umbral}°C: {altas}\")"
   ]
  },
  {
   "cell_type": "markdown",
   "id": "db14b549",
   "metadata": {},
   "source": [
    "**Ejercicio 13**: Módulo de Desestructuración de Diccionarios (claves_valores.py)\n",
    "\n",
    "Requerimientos:\n",
    "1. Crea un archivo llamado claves_valores.py.\n",
    "2. Define una función llamada obtener_claves(diccionario) que reciba un diccionario y retorne una lista de sus claves utilizando el método .keys() y convirtiendo el resultado a lista.\n",
    "\n",
    "En el archivo principal (main.py):\n",
    "1. Define un diccionario: equipos = {'motor': 1, 'bomba': 2, 'válvula': 5}.\n",
    "2. Importa la función obtener_claves.\n",
    "3. Llama a la función para obtener la lista de claves.\n",
    "4. Imprime la lista."
   ]
  },
  {
   "cell_type": "code",
   "execution_count": 7,
   "id": "51c2a39b",
   "metadata": {},
   "outputs": [
    {
     "name": "stdout",
     "output_type": "stream",
     "text": [
      "Diccionario: {'motor': 1, 'bomba': 2, 'válvula': 5}\n",
      "Lista de claves: ['motor', 'bomba', 'válvula']\n"
     ]
    }
   ],
   "source": [
    "#claves_valores.py\n",
    "def obtener_claves(diccionario):\n",
    "    \"\"\"Retorna una lista con las claves del diccionario.\"\"\"\n",
    "    return list(diccionario.keys())\n",
    "\n",
    "#main.py\n",
    "from modulos.claves_valores import obtener_claves\n",
    "\n",
    "# Definir diccionario\n",
    "equipos = {'motor': 1, 'bomba': 2, 'válvula': 5}\n",
    "\n",
    "# Llamar a la función para obtener la lista de claves\n",
    "lista_claves = obtener_claves(equipos)\n",
    "\n",
    "print(f\"Diccionario: {equipos}\")\n",
    "print(f\"Lista de claves: {lista_claves}\")"
   ]
  },
  {
   "cell_type": "markdown",
   "id": "b4e74b19",
   "metadata": {},
   "source": [
    "**Ejercicio 14**: Módulo de Modificación de Listas (ajustes.py)\n",
    "\n",
    "Requerimientos:\n",
    "1. Crea un archivo llamado ajustes.py.\n",
    "2. Define una función llamada modificar_por_indice(lista, indice, nuevo_valor) que reciba una lista, un índice, y un nuevo valor. La función debe modificar el elemento de la lista en esa posición.\n",
    "\n",
    "En el archivo principal (main.py):\n",
    "1. Define una lista de pesos: pesos = [4.5, 6.1, 7.0].\n",
    "2. Importa la función modificar_por_indice.\n",
    "3. Llama a la función para cambiar el segundo elemento (índice 1) a 5.9.\n",
    "4. Imprime la lista modificada."
   ]
  },
  {
   "cell_type": "code",
   "execution_count": 6,
   "id": "5ff4b849",
   "metadata": {},
   "outputs": [
    {
     "name": "stdout",
     "output_type": "stream",
     "text": [
      "Pesos iniciales: [4.5, 6.1, 7.0]\n",
      "Pesos después de modificar el índice 1: [4.5, 5.9, 7.0]\n"
     ]
    }
   ],
   "source": [
    "#ajustes.py\n",
    "def modificar_por_indice(lista, indice, nuevo_valor):\n",
    "    \"\"\"Modifica un elemento de la lista en la posición dada por el índice.\"\"\"\n",
    "    lista[indice] = nuevo_valor\n",
    "    # No retorna nada (la modificación es in-place)\n",
    "\n",
    "# Programa principal: main.py\n",
    "from modulos.ajustes import modificar_por_indice\n",
    "\n",
    "# Lista de pesos\n",
    "pesos = [4.5, 6.1, 7.0]\n",
    "\n",
    "print(f\"Pesos iniciales: {pesos}\")\n",
    "\n",
    "# Llamar a la función para modificar el segundo elemento (índice 1)\n",
    "modificar_por_indice(pesos, 1, 5.9)\n",
    "\n",
    "print(f\"Pesos después de modificar el índice 1: {pesos}\")"
   ]
  },
  {
   "cell_type": "markdown",
   "id": "fa62cc30",
   "metadata": {},
   "source": [
    "**Ejercicio 15**: Módulo de Redondeo Vectorizado (redondeo_np.py)\n",
    "\n",
    "Requerimientos:\n",
    "1. Crea un archivo llamado redondeo_np.py.\n",
    "2. Dentro, importa NumPy como np.\n",
    "3. Define una función llamada redondear_array(array_flotante) que reciba un array de NumPy con decimales y utilice la función np.round() para redondear todos los elementos a dos decimales, retornando el array redondeado.\n",
    "\n",
    "En el archivo principal (main.py):\n",
    "1. Importa NumPy como np.\n",
    "2. Crea un array: datos_precisos = np.array([1.2345, 8.7654, 3.0001]).\n",
    "3. Importa la función redondear_array.\n",
    "4. Llama a la función importada con el array.\n",
    "5. Imprime el array con los valores redondeados."
   ]
  },
  {
   "cell_type": "code",
   "execution_count": 5,
   "id": "0af60add",
   "metadata": {},
   "outputs": [
    {
     "name": "stdout",
     "output_type": "stream",
     "text": [
      "Datos originales: [1.2345 8.7654 3.0001]\n",
      "Datos redondeados a 2 decimales: [1.23 8.77 3.  ]\n"
     ]
    }
   ],
   "source": [
    "#redondeo_np.py\n",
    "import numpy as np\n",
    "\n",
    "def redondear_array(array_flotante):\n",
    "    \"\"\"Redondea cada elemento del array de NumPy a dos decimales.\"\"\"\n",
    "    # Usar np.round()\n",
    "    return np.round(array_flotante, 2)\n",
    "\n",
    "#main.py\n",
    "import numpy as np\n",
    "from modulos.redondeo_np import redondear_array\n",
    "\n",
    "# Crear array\n",
    "datos_precisos = np.array([1.2345, 8.7654, 3.0001])\n",
    "print(f\"Datos originales: {datos_precisos}\")\n",
    "\n",
    "# Llamar a la función importada\n",
    "datos_redondeados = redondear_array(datos_precisos)\n",
    "\n",
    "print(f\"Datos redondeados a 2 decimales: {datos_redondeados}\")"
   ]
  },
  {
   "cell_type": "markdown",
   "id": "26d21486",
   "metadata": {},
   "source": [
    "**Ejercicio 16**: Módulo de Combinación de Datos Heterogéneos (estructuras.py)\n",
    "\n",
    "Requerimientos:\n",
    "1. Crea un archivo llamado estructuras.py.\n",
    "2. Define una función llamada crear_registro_inmutable(id, estado, valor) que reciba un id (int), un estado (str) y un valor (float), y retorne una tupla que contenga estos tres valores en ese orden.\n",
    "\n",
    "En el archivo principal (main.py):\n",
    "1. Importa la función crear_registro_inmutable.\n",
    "2. Llama a la función para crear un registro: ID 101, Estado 'Activo', Valor 99.9.\n",
    "3. Imprime el registro (la tupla) resultante."
   ]
  },
  {
   "cell_type": "code",
   "execution_count": 4,
   "id": "fb6d2be7",
   "metadata": {},
   "outputs": [
    {
     "name": "stdout",
     "output_type": "stream",
     "text": [
      "Registro creado (Tupla): (101, 'Activo', 99.9)\n",
      "Tipo del registro: <class 'tuple'>\n"
     ]
    }
   ],
   "source": [
    "#estructuras.py\n",
    "def crear_registro_inmutable(id, estado, valor):\n",
    "    \"\"\"Crea y retorna una tupla inmutable con los tres valores.\"\"\"\n",
    "    return (id, estado, valor)\n",
    "\n",
    "#main.py\n",
    "from modulos.estructuras import crear_registro_inmutable\n",
    "\n",
    "# Llamar a la función para crear el registro\n",
    "registro = crear_registro_inmutable(101, 'Activo', 99.9)\n",
    "\n",
    "print(f\"Registro creado (Tupla): {registro}\")\n",
    "print(f\"Tipo del registro: {type(registro)}\")"
   ]
  },
  {
   "cell_type": "markdown",
   "id": "17ed0ec6",
   "metadata": {},
   "source": [
    "**Ejercicio 17**: Módulo de Bucle con Índices y Valores (inspeccion.py)\n",
    "\n",
    "Requerimientos:\n",
    "1. Crea un archivo llamado inspeccion.py.\n",
    "2. Define una función llamada mostrar_lista_inversa(lista) que reciba una lista. La función debe utilizar enumerate() para iterar sobre la lista e imprimir cada valor, pero el índice que se muestre debe ser el que corresponde a la posición contando desde el final de la lista (ej: para una lista de 5 elementos, el primero es la posición 5, el segundo es la 4, etc.).\n",
    "\n",
    "En el archivo principal (main.py):\n",
    "1. Define una lista: fases = ['Inicio', 'Proceso', 'Fin’].\n",
    "2. Importa la función mostrar_lista_inversa.\n",
    "3. Llama a la función e imprime la salida."
   ]
  },
  {
   "cell_type": "code",
   "execution_count": 1,
   "id": "a8ec3143",
   "metadata": {},
   "outputs": [
    {
     "name": "stdout",
     "output_type": "stream",
     "text": [
      "\n",
      "--- Posición desde el Final ---\n",
      "Posición 3: Inicio\n",
      "Posición 2: Proceso\n",
      "Posición 1: Fin\n"
     ]
    }
   ],
   "source": [
    "#inspeccion.py\n",
    "def mostrar_lista_inversa(lista):\n",
    "    \"\"\"\n",
    "    Itera sobre la lista usando enumerate() e imprime el valor\n",
    "    junto con su posición contando desde el final.\n",
    "    \"\"\"\n",
    "    longitud = len(lista)\n",
    "    print(\"\\n--- Posición desde el Final ---\")\n",
    "    for i, valor in enumerate(lista):\n",
    "        # La posición desde el final es (longitud - indice actual)\n",
    "        posicion_final = longitud - i\n",
    "        print(f\"Posición {posicion_final}: {valor}\")\n",
    "        \n",
    "#main.py\n",
    "from modulos.inspeccion import mostrar_lista_inversa\n",
    "\n",
    "# Lista de fases\n",
    "fases = ['Inicio', 'Proceso', 'Fin']\n",
    "\n",
    "# Llamar a la función\n",
    "mostrar_lista_inversa(fases)"
   ]
  },
  {
   "cell_type": "markdown",
   "id": "0c6e1e45",
   "metadata": {},
   "source": [
    "**Ejercicio 18**: Módulo de Desempaquetado de Tuplas en for (procesos_zip.py)\n",
    "\n",
    "Requerimientos:\n",
    "1. Crea un archivo llamado procesos_zip.py.\n",
    "2. Define una función llamada imprimir_pares(nombres, codigos) que reciba dos listas. La función debe utilizar zip() para iterar sobre ellas y desempaquetar directamente el par (nombre, codigo) en cada iteración, imprimiéndolos en el formato: \"Código [codigo] -> Nombre: [nombre]\".\n",
    "\n",
    "En el archivo principal (main.py):\n",
    "1. Define dos listas: productos = ['A1', 'A2', 'A3'] y cods = [1001, 1002, 1003].\n",
    "2. Importa la función imprimir_pares.\n",
    "3. Llama a la función con las listas."
   ]
  },
  {
   "cell_type": "code",
   "execution_count": 2,
   "id": "fd306f88",
   "metadata": {},
   "outputs": [
    {
     "name": "stdout",
     "output_type": "stream",
     "text": [
      "\n",
      "--- Pares de Datos ---\n",
      "Código 1001 -> Nombre: A1\n",
      "Código 1002 -> Nombre: A2\n",
      "Código 1003 -> Nombre: A3\n"
     ]
    }
   ],
   "source": [
    "#procesos_zip.py\n",
    "def imprimir_pares(nombres, codigos):\n",
    "    \"\"\"\n",
    "    Utiliza zip() para emparejar y desempaquetar nombres y códigos,\n",
    "    e imprime el resultado.\n",
    "    \"\"\"\n",
    "    print(\"\\n--- Pares de Datos ---\")\n",
    "    # Desempaquetado directo en el bucle for\n",
    "    for nombre, codigo in zip(nombres, codigos):\n",
    "        print(f\"Código {codigo} -> Nombre: {nombre}\")\n",
    "\n",
    "#main.py\n",
    "from modulos.procesos_zip import imprimir_pares\n",
    "\n",
    "# Definir las dos listas\n",
    "productos = ['A1', 'A2', 'A3']\n",
    "cods = [1001, 1002, 1003]\n",
    "\n",
    "# Llamar a la función\n",
    "imprimir_pares(productos, cods)        "
   ]
  },
  {
   "cell_type": "markdown",
   "id": "0eec20ae",
   "metadata": {},
   "source": [
    "**Ejercicio 19**: Módulo de Operación de Potencia Vectorizada (exponenciales.py)\n",
    "\n",
    "Requerimientos:\n",
    "1. Crea un archivo llamado exponenciales.py.\n",
    "2. Dentro, importa NumPy como np.\n",
    "3. Define una función llamada elevar_al_cuadrado(vector) que reciba un array de NumPy y utilice el operador de potencia vectorizado (**) para elevar al cuadrado cada elemento, retornando el nuevo array.\n",
    "\n",
    "En el archivo principal (main.py):\n",
    "1. Importa NumPy como np.\n",
    "2. Crea un array: bases = np.array([2, 5, 10]).\n",
    "3. Importa la función elevar_al_cuadrado.\n",
    "4. Llama a la función y imprime el array resultante."
   ]
  },
  {
   "cell_type": "code",
   "execution_count": 3,
   "id": "b6a8975c",
   "metadata": {},
   "outputs": [
    {
     "name": "stdout",
     "output_type": "stream",
     "text": [
      "Bases: [ 2  5 10]\n",
      "Resultados elevados al cuadrado: [  4  25 100]\n"
     ]
    }
   ],
   "source": [
    "#exponenciales.py\n",
    "import numpy as np\n",
    "\n",
    "def elevar_al_cuadrado(vector):\n",
    "    \"\"\"Eleva al cuadrado cada elemento del array de NumPy vectorizado.\"\"\"\n",
    "    # Uso del operador ** vectorizado\n",
    "    return vector ** 2\n",
    "\n",
    "#main.py\n",
    "import numpy as np\n",
    "from modulos.exponenciales import elevar_al_cuadrado\n",
    "\n",
    "# Crear array\n",
    "bases = np.array([2, 5, 10])\n",
    "print(f\"Bases: {bases}\")\n",
    "\n",
    "# Llamar a la función importada\n",
    "cuadrados = elevar_al_cuadrado(bases)\n",
    "\n",
    "print(f\"Resultados elevados al cuadrado: {cuadrados}\")"
   ]
  },
  {
   "cell_type": "markdown",
   "id": "0eb72c20",
   "metadata": {},
   "source": [
    "**Ejercicio 20**: Módulo de Conteo de Elementos en Listas (contadores.py)\n",
    "\n",
    "Requerimientos:\n",
    "1. Crea un archivo llamado contadores.py.\n",
    "2. Define una función llamada contar_ocurrencias(lista, elemento_a_contar) que reciba una lista y un elemento. La función debe usar el método .count() de la lista para contar cuántas veces aparece ese elemento y retornar el resultado.\n",
    "\n",
    "En el archivo principal (main.py):\n",
    "1. Define una lista de resultados de pruebas: resultados = ['Pasa', 'Falla', 'Pasa', 'Pasa', 'Falla’].\n",
    "2. Importa la función contar_ocurrencias.\n",
    "3. Llama a la función para contar cuántas veces aparece 'Pasa’.\n",
    "4. Imprime el número de ocurrencias.\n"
   ]
  },
  {
   "cell_type": "code",
   "execution_count": null,
   "id": "97a3946c",
   "metadata": {},
   "outputs": [
    {
     "name": "stdout",
     "output_type": "stream",
     "text": [
      "Lista de resultados: ['Pasa', 'Falla', 'Pasa', 'Pasa', 'Falla']\n",
      "El elemento 'Pasa' aparece 3 veces.\n"
     ]
    }
   ],
   "source": [
    "#contadores.py\n",
    "def contar_ocurrencias(lista, elemento_a_contar):\n",
    "    #Utiliza el metodo .count() para saber cuantas veces aparece un elemento.\n",
    "    return lista.count(elemento_a_contar)\n",
    "\n",
    "#main.py\n",
    "from modulos.contadores import contar_ocurrencias\n",
    "resultados=['Pasa', 'Falla', 'Pasa', 'Pasa', 'Falla']\n",
    "conteo=contar_ocurrencias(resultados, 'Pasa')\n",
    "\n",
    "print(f\"Lista de resultados: {resultados}\")\n",
    "print(f\"El elemento 'Pasa' aparece {conteo} veces.\")"
   ]
  }
 ],
 "metadata": {
  "kernelspec": {
   "display_name": "Python 3",
   "language": "python",
   "name": "python3"
  },
  "language_info": {
   "codemirror_mode": {
    "name": "ipython",
    "version": 3
   },
   "file_extension": ".py",
   "mimetype": "text/x-python",
   "name": "python",
   "nbconvert_exporter": "python",
   "pygments_lexer": "ipython3",
   "version": "3.14.0"
  }
 },
 "nbformat": 4,
 "nbformat_minor": 5
}
