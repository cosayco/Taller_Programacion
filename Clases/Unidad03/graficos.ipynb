{
 "cells": [
  {
   "cell_type": "markdown",
   "id": "763be5c6",
   "metadata": {},
   "source": [
    "# Reportes con Gráficos 📊"
   ]
  },
  {
   "cell_type": "markdown",
   "id": "543f21c3",
   "metadata": {},
   "source": [
    "Generamos el **Dataframe** con los datos tecnicos para el Gráfico."
   ]
  },
  {
   "cell_type": "code",
   "execution_count": null,
   "id": "0df31f5d",
   "metadata": {},
   "outputs": [],
   "source": [
    "import pandas as pd #Importar libreria para trabajar con los datos.\n",
    "\n",
    "#Simulacion de datos tecnicos\n",
    "datos = {\n",
    "    \"Material\":[\"Cobre\", \"Plata\", \"Aluminio\", \"Hierro\", \"Oro\"],\n",
    "    \"Masa\":[270,315,150,250,500],\n",
    "    \"Volumen\":[100,90,80,120,50]\n",
    "}\n",
    "\n",
    "df=pd.DataFrame(datos)\n",
    "df[\"Densidad\"]=df[\"Masa\"]/df[\"Volumen\"]"
   ]
  },
  {
   "cell_type": "markdown",
   "id": "f31571ed",
   "metadata": {},
   "source": [
    "Ahora podemos generar un **grafico de barras** con la informacion anterior."
   ]
  },
  {
   "cell_type": "code",
   "execution_count": null,
   "id": "70d91054",
   "metadata": {},
   "outputs": [],
   "source": [
    "import matplotlib.pyplot as plt #Importar libreria para generar los graficos\n",
    "\n",
    "#Grafico de barras\n",
    "plt.figure(figsize=(8,5))\n",
    "plt.bar(df[\"Material\"], df[\"Densidad\"], color=\"blue\")\n",
    "plt.title(\"Densidad por Material\") \n",
    "plt.xlabel(\"Material\")\n",
    "plt.ylabel(\"Densidad (g/cm³)\")\n",
    "plt.grid(True)\n",
    "plt.tight_layout()\n",
    "plt.show()"
   ]
  },
  {
   "cell_type": "markdown",
   "id": "65884a71",
   "metadata": {},
   "source": [
    "Tambien podemos generar un **gráfico circular** con el siguiente código."
   ]
  },
  {
   "cell_type": "code",
   "execution_count": null,
   "id": "d0010976",
   "metadata": {},
   "outputs": [],
   "source": [
    "plt.figure(figsize=(6,6))\n",
    "plt.pie(df[\"Masa\"], labels=df[\"Material\"], autopct=\"%1.1f%%\", startangle=90)\n",
    "plt.title(\"Distribucion de Masa por Material\")\n",
    "plt.tight_layout()\n",
    "plt.show()"
   ]
  },
  {
   "cell_type": "markdown",
   "id": "aca1159a",
   "metadata": {},
   "source": [
    "Y por ultimo tambien tenemos un **grafico de lineas**."
   ]
  },
  {
   "cell_type": "code",
   "execution_count": null,
   "id": "a92aca20",
   "metadata": {},
   "outputs": [],
   "source": [
    "plt.figure(figsize=(8,5))\n",
    "plt.plot(df[\"Material\"], df[\"Masa\"], marker=\"o\", label=\"Masa\", color=\"red\")\n",
    "plt.plot(df[\"Material\"], df[\"Volumen\"], marker=\"s\", label=\"Volumen\", color=\"green\")\n",
    "plt.title(\"Masa y Volumen por Material\")\n",
    "plt.xlabel(\"Material\")\n",
    "plt.ylabel(\"Valor\")\n",
    "plt.legend()\n",
    "plt.grid(True)\n",
    "plt.tight_layout()\n",
    "plt.show()"
   ]
  }
 ],
 "metadata": {
  "kernelspec": {
   "display_name": "Python 3",
   "language": "python",
   "name": "python3"
  },
  "language_info": {
   "codemirror_mode": {
    "name": "ipython",
    "version": 3
   },
   "file_extension": ".py",
   "mimetype": "text/x-python",
   "name": "python",
   "nbconvert_exporter": "python",
   "pygments_lexer": "ipython3",
   "version": "3.13.7"
  }
 },
 "nbformat": 4,
 "nbformat_minor": 5
}
