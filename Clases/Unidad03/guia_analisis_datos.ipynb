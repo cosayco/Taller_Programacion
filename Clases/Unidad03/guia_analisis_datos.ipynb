{
 "cells": [
  {
   "cell_type": "markdown",
   "id": "565703c0",
   "metadata": {},
   "source": [
    "\n",
    "# Guía Práctica: Análisis de Datos con Python en Jupyter Notebook\n",
    "\n",
    "Esta guía está diseñada para ayudarte a aprender cómo utilizar Jupyter Notebook para realizar análisis de datos con Python. Veremos cómo cargar, explorar y visualizar datos usando las librerías `pandas`, `matplotlib` y `seaborn`.\n"
   ]
  },
  {
   "cell_type": "markdown",
   "id": "7a3733de",
   "metadata": {},
   "source": [
    "\n",
    "## 1. Introducción a Jupyter Notebook\n",
    "\n",
    "Jupyter Notebook es una herramienta interactiva que permite combinar código, texto y visualizaciones en un mismo documento. Es ideal para análisis de datos, aprendizaje automático y documentación técnica.\n",
    "\n",
    "Puedes instalar Jupyter Notebook usando Anaconda o con pip:\n",
    "```bash\n",
    "pip install notebook\n",
    "```\n",
    "Y ejecutarlo con:\n",
    "```bash\n",
    "jupyter notebook\n",
    "```\n"
   ]
  },
  {
   "cell_type": "markdown",
   "id": "0022a475",
   "metadata": {},
   "source": [
    "\n",
    "## 2. Importación de librerías\n",
    "\n",
    "Vamos a importar las librerías necesarias para el análisis de datos.\n"
   ]
  },
  {
   "cell_type": "code",
   "execution_count": 1,
   "id": "ef0fc215",
   "metadata": {},
   "outputs": [],
   "source": [
    "\n",
    "import pandas as pd\n",
    "import matplotlib.pyplot as plt\n",
    "import seaborn as sns\n",
    "\n",
    "# Configurar estilo de gráficos\n",
    "sns.set(style=\"whitegrid\")\n"
   ]
  },
  {
   "cell_type": "markdown",
   "id": "efa4249c",
   "metadata": {},
   "source": [
    "\n",
    "## 3. Cargar un dataset\n",
    "\n",
    "Usaremos un dataset de ejemplo sobre calificaciones de estudiantes. Puedes reemplazarlo por cualquier archivo CSV que tengas.\n"
   ]
  },
  {
   "cell_type": "code",
   "execution_count": 2,
   "id": "7c5dee01",
   "metadata": {},
   "outputs": [
    {
     "data": {
      "text/html": [
       "<div>\n",
       "<style scoped>\n",
       "    .dataframe tbody tr th:only-of-type {\n",
       "        vertical-align: middle;\n",
       "    }\n",
       "\n",
       "    .dataframe tbody tr th {\n",
       "        vertical-align: top;\n",
       "    }\n",
       "\n",
       "    .dataframe thead th {\n",
       "        text-align: right;\n",
       "    }\n",
       "</style>\n",
       "<table border=\"1\" class=\"dataframe\">\n",
       "  <thead>\n",
       "    <tr style=\"text-align: right;\">\n",
       "      <th></th>\n",
       "      <th>Nombre</th>\n",
       "      <th>Ingeniería</th>\n",
       "      <th>Nota Final</th>\n",
       "    </tr>\n",
       "  </thead>\n",
       "  <tbody>\n",
       "    <tr>\n",
       "      <th>0</th>\n",
       "      <td>Ana</td>\n",
       "      <td>Civil</td>\n",
       "      <td>5.8</td>\n",
       "    </tr>\n",
       "    <tr>\n",
       "      <th>1</th>\n",
       "      <td>Luis</td>\n",
       "      <td>Industrial</td>\n",
       "      <td>6.2</td>\n",
       "    </tr>\n",
       "    <tr>\n",
       "      <th>2</th>\n",
       "      <td>Carlos</td>\n",
       "      <td>Informática</td>\n",
       "      <td>4.9</td>\n",
       "    </tr>\n",
       "    <tr>\n",
       "      <th>3</th>\n",
       "      <td>María</td>\n",
       "      <td>Civil</td>\n",
       "      <td>5.5</td>\n",
       "    </tr>\n",
       "    <tr>\n",
       "      <th>4</th>\n",
       "      <td>José</td>\n",
       "      <td>Informática</td>\n",
       "      <td>6.8</td>\n",
       "    </tr>\n",
       "  </tbody>\n",
       "</table>\n",
       "</div>"
      ],
      "text/plain": [
       "   Nombre   Ingeniería  Nota Final\n",
       "0     Ana        Civil         5.8\n",
       "1    Luis   Industrial         6.2\n",
       "2  Carlos  Informática         4.9\n",
       "3   María        Civil         5.5\n",
       "4    José  Informática         6.8"
      ]
     },
     "execution_count": 2,
     "metadata": {},
     "output_type": "execute_result"
    }
   ],
   "source": [
    "\n",
    "# Crear un DataFrame de ejemplo\n",
    "data = {\n",
    "    'Nombre': ['Ana', 'Luis', 'Carlos', 'María', 'José'],\n",
    "    'Ingeniería': ['Civil', 'Industrial', 'Informática', 'Civil', 'Informática'],\n",
    "    'Nota Final': [5.8, 6.2, 4.9, 5.5, 6.8]\n",
    "}\n",
    "df = pd.DataFrame(data)\n",
    "df\n"
   ]
  },
  {
   "cell_type": "markdown",
   "id": "60056ecd",
   "metadata": {},
   "source": [
    "\n",
    "## 4. Exploración de datos\n",
    "\n",
    "Veamos algunas funciones útiles para explorar el dataset.\n"
   ]
  },
  {
   "cell_type": "code",
   "execution_count": 3,
   "id": "17ce8cf5",
   "metadata": {},
   "outputs": [
    {
     "name": "stdout",
     "output_type": "stream",
     "text": [
      "<class 'pandas.core.frame.DataFrame'>\n",
      "RangeIndex: 5 entries, 0 to 4\n",
      "Data columns (total 3 columns):\n",
      " #   Column      Non-Null Count  Dtype  \n",
      "---  ------      --------------  -----  \n",
      " 0   Nombre      5 non-null      object \n",
      " 1   Ingeniería  5 non-null      object \n",
      " 2   Nota Final  5 non-null      float64\n",
      "dtypes: float64(1), object(2)\n",
      "memory usage: 252.0+ bytes\n"
     ]
    },
    {
     "data": {
      "text/plain": [
       "Ingeniería\n",
       "Civil          2\n",
       "Informática    2\n",
       "Industrial     1\n",
       "Name: count, dtype: int64"
      ]
     },
     "execution_count": 3,
     "metadata": {},
     "output_type": "execute_result"
    }
   ],
   "source": [
    "\n",
    "df.info()\n",
    "df.describe()\n",
    "df['Ingeniería'].value_counts()\n"
   ]
  },
  {
   "cell_type": "markdown",
   "id": "849e7897",
   "metadata": {},
   "source": [
    "\n",
    "## 5. Visualización de datos\n",
    "\n",
    "Graficaremos la distribución de notas por carrera.\n"
   ]
  },
  {
   "cell_type": "code",
   "execution_count": 4,
   "id": "8d56dc83",
   "metadata": {},
   "outputs": [
    {
     "data": {
      "image/png": "[encoded data removed]",
      "text/plain": [
       "<Figure size 640x480 with 1 Axes>"
      ]
     },
     "metadata": {},
     "output_type": "display_data"
    }
   ],
   "source": [
    "\n",
    "sns.boxplot(x='Ingeniería', y='Nota Final', data=df)\n",
    "plt.title('Distribución de Notas por Carrera')\n",
    "plt.show()\n"
   ]
  },
  {
   "cell_type": "markdown",
   "id": "2028476a",
   "metadata": {},
   "source": [
    "\n",
    "## 6. Mini Proyecto\n",
    "\n",
    "Realiza un análisis con un dataset más grande. Algunas ideas:\n",
    "- Dataset de clima\n",
    "- Dataset de ventas\n",
    "- Dataset de rendimiento académico\n",
    "\n",
    "Incluye:\n",
    "- Carga de datos\n",
    "- Limpieza\n",
    "- Visualización\n",
    "- Conclusiones\n"
   ]
  }
 ],
 "metadata": {
  "kernelspec": {
   "display_name": "Python 3",
   "language": "python",
   "name": "python3"
  },
  "language_info": {
   "codemirror_mode": {
    "name": "ipython",
    "version": 3
   },
   "file_extension": ".py",
   "mimetype": "text/x-python",
   "name": "python",
   "nbconvert_exporter": "python",
   "pygments_lexer": "ipython3",
   "version": "3.14.0"
  }
 },
 "nbformat": 4,
 "nbformat_minor": 5
}
