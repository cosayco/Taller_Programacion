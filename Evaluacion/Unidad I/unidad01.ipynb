{
 "cells": [
  {
   "cell_type": "markdown",
   "id": "24006053",
   "metadata": {},
   "source": [
    "## Ejercicios Evaluacion - Unidad I\n",
    "- #### Taller de Programacion\n",
    "- ##### Autor: Carlos Duran Palape\n",
    "***"
   ]
  },
  {
   "cell_type": "markdown",
   "id": "f52a3023",
   "metadata": {},
   "source": [
    "**Ejercicio 1**:\n",
    "- Diseña un algoritmo que solicite dos números al usuario y muestre la suma.\n",
    "\n",
    "*Algoritmo*:\n",
    "1. Leer primer numero\n",
    "2. Leer segundo numero\n",
    "3. Calcular suma = primer numero + segundo numero\n",
    "4. Mostrar suma\n",
    "\n",
    "*Diagrama de Flujo*:\n",
    "\n",
    "![Diagrama](diagramas/df_01.png)\n"
   ]
  },
  {
   "cell_type": "code",
   "execution_count": null,
   "id": "a27aeb57",
   "metadata": {},
   "outputs": [
    {
     "name": "stdout",
     "output_type": "stream",
     "text": [
      "La suma de los numeros es:  11\n"
     ]
    }
   ],
   "source": [
    "#Ejercicio 1: Suma de dos numeros\n",
    "N1=int(input(\"Ingrese primer numero:\"))\n",
    "N2=int(input(\"Ingrese segundo numero:\"))\n",
    "suma=N1+N2\n",
    "print(\"La suma de los numeros es: \", suma)"
   ]
  },
  {
   "cell_type": "markdown",
   "id": "27647bb6",
   "metadata": {},
   "source": [
    "**Ejercicio 2**:\n",
    "- Crea un algoritmo que determine si un número ingresado es par o impar.\n",
    "\n",
    "*Algoritmo*:\n",
    "\n",
    "1. Leer numero\n",
    "2. Si numero % 2 == 0\n",
    "    - SI => \"Numero Par\"\n",
    "    - NO => \"Numero Impar\"\n",
    "\n",
    "*Diagrama de Flujo*:\n",
    "\n",
    "![Diagrama](diagramas/df_02.png)"
   ]
  },
  {
   "cell_type": "code",
   "execution_count": null,
   "id": "70ac6002",
   "metadata": {},
   "outputs": [
    {
     "name": "stdout",
     "output_type": "stream",
     "text": [
      "Es par\n"
     ]
    }
   ],
   "source": [
    "#Ejercicio 2: Numero par o impar\n",
    "numero=int(input(\"Ingrese un numero:\"))\n",
    "if numero % 2 == 0:\n",
    "    print(\"Es par\")\n",
    "else:\n",
    "    print(\"Es impar\")"
   ]
  },
  {
   "cell_type": "markdown",
   "id": "57a213c0",
   "metadata": {},
   "source": [
    "**Ejercicio 3**:\n",
    "- Solicita tres notas, calcula el promedio y muestra si el estudiante aprueba (≥ 4.0).\n",
    "\n",
    "*Algoritmo*:\n",
    "\n",
    "1. Leer nota 1\n",
    "2. Leer nota 2\n",
    "3. Leer nota 3\n",
    "4. Calcular promedio = (nota 1 + nota 2 + nota 3) / 3\n",
    "5. Si promedio >= 4.0\n",
    "    - SI => \"Aprueba\"\n",
    "    - NO => \"No Aprueba\"\n",
    "\n",
    "*Diagrama de Flujo*:\n",
    "\n",
    "![Diagrama](diagramas/df_03.png)"
   ]
  },
  {
   "cell_type": "code",
   "execution_count": 12,
   "id": "3b43cca8",
   "metadata": {},
   "outputs": [
    {
     "name": "stdout",
     "output_type": "stream",
     "text": [
      "Estudiante Aprueba\n"
     ]
    }
   ],
   "source": [
    "#Ejercicio 3: Promedio de tres notas\n",
    "nota1=float(input(\"Ingrese Nota 01:\"))\n",
    "nota2=float(input(\"Ingrese Nota 02:\"))\n",
    "nota3=float(input(\"Ingrese Nota 03:\"))\n",
    "promedio=(nota1+nota2+nota3)/3\n",
    "if promedio>=4.0:\n",
    "    print(\"Estudiante Aprueba\")\n",
    "else:\n",
    "    print(\"Estudiante No Aprueba\")"
   ]
  },
  {
   "cell_type": "markdown",
   "id": "7bb4b743",
   "metadata": {},
   "source": [
    "**Ejercicio 4**: \n",
    "- Convierte grados Celsius a Fahrenheit usando la fórmula: F = C * 9/5 + 32.\n",
    "\n",
    "*Algoritmo*:\n",
    "\n",
    "1. Leer Celsius\n",
    "2. Calcular Fahrenheit = Celsius * 9/5 + 32\n",
    "3. Mostrar Fahrenheit\n",
    "\n",
    "*Diagrama de Flujo*:\n",
    "\n",
    "![Diagrama](diagramas/df_04.png)"
   ]
  },
  {
   "cell_type": "code",
   "execution_count": 11,
   "id": "c50cb21c",
   "metadata": {},
   "outputs": [
    {
     "name": "stdout",
     "output_type": "stream",
     "text": [
      "La temperatura en Fahrenheit es:  89.6\n"
     ]
    }
   ],
   "source": [
    "#Ejercicio 4: Conversion de Temperatura\n",
    "celsius=float(input(\"Ingrese temperatura en Celsius:\"))\n",
    "fahrenheit=(celsius*9/5)+32\n",
    "print(\"La temperatura en Fahrenheit es: \", fahrenheit)"
   ]
  },
  {
   "cell_type": "markdown",
   "id": "abc95232",
   "metadata": {},
   "source": [
    "**Ejercicio 5**:\n",
    "- Solicita la densidad de un material y clasificalo como:\n",
    "    - Liviano (< 2.5)\n",
    "    - Medio (2.5 - 7.0)\n",
    "    - Pesado (> 7.0)\n",
    "\n",
    "*Algoritmo*:\n",
    "\n",
    "1. Leer densidad\n",
    "2. Si densidad < 2.5\n",
    "    - SI => \"Liviano\"\n",
    "    - NO => Si densidad <= 7\n",
    "        - SI => \"Intermedio\"\n",
    "        - NO => \"Pesado\"\n",
    "\n",
    "*Diagrama de Flujo*:\n",
    "\n",
    "![Diagrama](diagramas/df_05.png)"
   ]
  },
  {
   "cell_type": "code",
   "execution_count": 2,
   "id": "5d384f2b",
   "metadata": {},
   "outputs": [
    {
     "name": "stdout",
     "output_type": "stream",
     "text": [
      "Intermedio\n"
     ]
    }
   ],
   "source": [
    "#Ejercicio 5: Clasificacion por densidad\n",
    "densidad=float(input(\"Ingrese la densidad: \"))\n",
    "if densidad < 2.5:\n",
    "    print(\"Liviano\")\n",
    "elif densidad < 7:\n",
    "    print(\"Intermedio\")\n",
    "else:\n",
    "    print(\"Pesado\")"
   ]
  },
  {
   "cell_type": "markdown",
   "id": "748233f3",
   "metadata": {},
   "source": [
    "**Ejercicio 6**:\n",
    "- Solicita masa y volumen, calcula densidad y valida si está dentro del rango aceptable (2.5 a 8.0).\n",
    "\n",
    "*Algoritmo*:\n",
    "\n",
    "1. Leer masa\n",
    "2. Leer volumen\n",
    "3. Calcular densidad = masa / volumen\n",
    "4. Si densidad >= 2.5 y densidad <= 8\n",
    "    - SI => \"Muestra Aceptada\"\n",
    "    - NO => \"Muestra Rechazada\"\n",
    "\n",
    "*Diagrama de flujo*:\n",
    "\n",
    "![Diagrama](diagramas/df_06.png)\n",
    "\n"
   ]
  },
  {
   "cell_type": "code",
   "execution_count": 10,
   "id": "948e43ed",
   "metadata": {},
   "outputs": [
    {
     "name": "stdout",
     "output_type": "stream",
     "text": [
      "Muestra Aceptada\n"
     ]
    }
   ],
   "source": [
    "#Ejercicio 6: Validación de muestra técnica\n",
    "masa=float(input(\"Ingrese la masa:\"))\n",
    "volumen=float(input(\"Ingrese el volumen:\"))\n",
    "densidad=masa/volumen\n",
    "if densidad>=2.5 and densidad<=8:\n",
    "    print(\"Muestra Aceptada\")\n",
    "else:\n",
    "    print(\"Muestra Rechazada\")"
   ]
  },
  {
   "cell_type": "markdown",
   "id": "16460920",
   "metadata": {},
   "source": [
    "**Ejercicio 7**:\n",
    "- Solicita un número y muestra su tabla de multiplicar del 1 al 12.\n",
    "\n",
    "*Algoritmo*:\n",
    "\n",
    "1. Leer numero\n",
    "2. Establecer contador = 1\n",
    "3. Si el contador es menor o igual que 12, repetir los siguientes pasos:\n",
    "    - Multiplicar número por el valor de contador\n",
    "    - Mostrar \"número x contador = resultado\"\n",
    "    - Incrementar el contador en 1\n",
    "\n",
    "*Diagrama de Flujo*:\n",
    "\n",
    "![Diagrama](diagramas/df_07.png)"
   ]
  },
  {
   "cell_type": "code",
   "execution_count": 1,
   "id": "9d5690c3",
   "metadata": {},
   "outputs": [
    {
     "name": "stdout",
     "output_type": "stream",
     "text": [
      "15 x 1 = 15\n",
      "15 x 2 = 30\n",
      "15 x 3 = 45\n",
      "15 x 4 = 60\n",
      "15 x 5 = 75\n",
      "15 x 6 = 90\n",
      "15 x 7 = 105\n",
      "15 x 8 = 120\n",
      "15 x 9 = 135\n",
      "15 x 10 = 150\n",
      "15 x 11 = 165\n",
      "15 x 12 = 180\n"
     ]
    }
   ],
   "source": [
    "#Ejercicio 7: Tabla de multiplicar\n",
    "numero=int(input(\"Ingrese un numero:\"))\n",
    "contador=1\n",
    "while contador<=12:\n",
    "    resultado=numero*contador\n",
    "    print(numero, \"x\", contador, \"=\", resultado)\n",
    "    contador+=1"
   ]
  },
  {
   "cell_type": "markdown",
   "id": "367ab6d8",
   "metadata": {},
   "source": [
    "**Ejercicio 8**:\n",
    "- Solicita 5 números y cuenta cuántos son positivos.\n",
    "\n",
    "*Algoritmo*:\n",
    "\n",
    "1. Establecer positivos=0, contador=1\n",
    "2. Mientras contador <= 5, repetir los siguientes pasos:\n",
    "    - Leer numero(contador)\n",
    "    - Si numero > 0\n",
    "        - SI => sumar positivos\n",
    "        - NO => no sumar\n",
    "\n",
    "*Diagrma de Flujo*:\n",
    "\n",
    "![Diagrama](diagramas/df_08.png)"
   ]
  },
  {
   "cell_type": "code",
   "execution_count": 9,
   "id": "09b8f322",
   "metadata": {},
   "outputs": [
    {
     "name": "stdout",
     "output_type": "stream",
     "text": [
      "Cantidad de numeros positivos:  2\n"
     ]
    }
   ],
   "source": [
    "#Ejercicio 8: Contador de números positivos\n",
    "positivos=0\n",
    "for contador in range(5):\n",
    "    num=int(input(f\"Ingrese un numero {contador + 1}:\"))\n",
    "    if num>0:\n",
    "        positivos+=1\n",
    "print(\"Cantidad de numeros positivos: \", positivos)"
   ]
  },
  {
   "cell_type": "markdown",
   "id": "3bf29403",
   "metadata": {},
   "source": [
    "**Ejercicio 9**:\n",
    "- Solicita base y altura, calcula el área usando la fórmula: (base * altura) / 2.\n",
    "\n",
    "*Algoritmo*:\n",
    "\n",
    "1. Leer base\n",
    "2. Leer altura\n",
    "3. Calcular área = (base * altura) / 2\n",
    "\n",
    "*Diagrama de Flujo*:\n",
    "\n",
    "![Diagrama](diagramas/df_09.png)"
   ]
  },
  {
   "cell_type": "code",
   "execution_count": 8,
   "id": "4e92eede",
   "metadata": {},
   "outputs": [
    {
     "name": "stdout",
     "output_type": "stream",
     "text": [
      "El área del triángulo es:  17.5\n"
     ]
    }
   ],
   "source": [
    "#Ejercicio 9: Area de un triángulo\n",
    "base=float(input(\"Ingrese la base del triángulo:\"))\n",
    "altura=float(input(\"Ingrese la altura del triángulo:\"))\n",
    "area=(base*altura)/2\n",
    "print(\"El área del triángulo es: \", area)"
   ]
  },
  {
   "cell_type": "markdown",
   "id": "a70d4929",
   "metadata": {},
   "source": [
    "**Ejercicio 10**:\n",
    "- Solicita una contraseña y verifica si es igual a \"admin123\". Muestra “Acceso permitido” o “Acceso denegado”.\n",
    "\n",
    "*Algoritmo*:\n",
    "\n",
    "1. Leer contraseña\n",
    "2. Si contraseña = \"admin123\"\n",
    "    - SI => \"Acceso Permitido\"\n",
    "    - NO => \"Acceso Denegado\"\n",
    "\n",
    "*Diagrama de Flujo*:\n",
    "\n",
    "![Diagrama](diagramas/df_10.png)"
   ]
  },
  {
   "cell_type": "code",
   "execution_count": 7,
   "id": "4bd32922",
   "metadata": {},
   "outputs": [
    {
     "name": "stdout",
     "output_type": "stream",
     "text": [
      "Acceso denegado\n"
     ]
    }
   ],
   "source": [
    "#Ejercicio 10: Validacion Contraseña\n",
    "contraseña=input(\"Ingrese contraseña:\")\n",
    "if contraseña==\"admin123\":\n",
    "    print(\"Acceso permitido\")\n",
    "else:\n",
    "    print(\"Acceso denegado\")"
   ]
  },
  {
   "cell_type": "markdown",
   "id": "bf8cb41a",
   "metadata": {},
   "source": [
    "**Ejercicio 11**:\n",
    "- Solicita el precio de un producto y aplica un 15% de descuento si el precio es mayor a $1000.\n",
    "\n",
    "*Algoritmo*:\n",
    "\n",
    "1. Leer precio producto\n",
    "2. Si precio producto > 1000\n",
    "    - SI => aplicar descuento 15%\n",
    "    - NO => no aplica\n",
    "\n",
    "*Diagrama de Flujo*:\n",
    "\n",
    "![Diagrama](diagramas/df_11.png)"
   ]
  },
  {
   "cell_type": "code",
   "execution_count": 6,
   "id": "c85df903",
   "metadata": {},
   "outputs": [
    {
     "name": "stdout",
     "output_type": "stream",
     "text": [
      "Descuento aplicado:  180.0\n",
      "Monto final a pagar:  1020.0\n"
     ]
    }
   ],
   "source": [
    "#Ejercicio 11: Cálculo descuento\n",
    "monto=float(input(\"Ingrese el monto de la compra:\"))\n",
    "if monto>1000:\n",
    "    descuento=monto*0.15\n",
    "    monto_final=monto-descuento\n",
    "    print(\"Descuento aplicado: \", descuento)\n",
    "    print(\"Monto final a pagar: \", monto_final)"
   ]
  },
  {
   "cell_type": "markdown",
   "id": "3cfc4e65",
   "metadata": {},
   "source": [
    "**Ejercicio 12**:\n",
    "- Solicita 10 números y cuenta cuántos son pares y cuántos impares.\n",
    "\n",
    "*Algoritmo*:\n",
    "\n",
    "1. Establecer pares=0, impares=0, contador=1\n",
    "2. Mientras contador <= 10, repetir los siguientes pasos:\n",
    "    - Leer numero(contador)\n",
    "    - Si numero % 2 == 0\n",
    "        - SI => sumar pares\n",
    "        - NO => sumar impares\n",
    "\n",
    "*Diagrama de Flujo*:\n",
    "\n",
    "![Diagrama](diagramas/df_12.png)"
   ]
  },
  {
   "cell_type": "code",
   "execution_count": 5,
   "id": "631bc3ec",
   "metadata": {},
   "outputs": [
    {
     "name": "stdout",
     "output_type": "stream",
     "text": [
      "Cantidad de numeros pares:  6\n",
      "Cantidad de numeros impares:  4\n"
     ]
    }
   ],
   "source": [
    "#Ejercicio 12: Contador de pares e impares\n",
    "pares=0\n",
    "impares=0\n",
    "for contador in range(10):\n",
    "    numero=int(input(f\"Ingrese un numero {contador + 1}:\"))\n",
    "    if numero%2==0:\n",
    "        pares+=1\n",
    "    else:\n",
    "        impares+=1\n",
    "\n",
    "print(\"Cantidad de numeros pares: \", pares)\n",
    "print(\"Cantidad de numeros impares: \", impares)"
   ]
  },
  {
   "cell_type": "markdown",
   "id": "f2685d46",
   "metadata": {},
   "source": [
    "**Ejercicio 13**:\n",
    "- Solicita una temperatura y clasifícala como:\n",
    "    - Baja (< 10°C)\n",
    "    - Media (10°C – 25°C)\n",
    "    - Alta (> 25°C)\n",
    "\n",
    "\n",
    "*Algoritmo*:\n",
    "\n",
    "1. Leer temperatura\n",
    "2. Si temperatura < 10\n",
    "    - SI => \"Temperatura baja\"\n",
    "    - NO => Si temperatura <= 25\n",
    "        - SI => \"Temperatura media\"\n",
    "        - NO => \"Temperatura alta\"\n",
    "\n",
    "*Diagrama de Flujo*:\n",
    "\n",
    "![Diagrama](diagramas/df_13.png)"
   ]
  },
  {
   "cell_type": "code",
   "execution_count": 4,
   "id": "39fde6a9",
   "metadata": {},
   "outputs": [
    {
     "name": "stdout",
     "output_type": "stream",
     "text": [
      "Temperatura alta\n"
     ]
    }
   ],
   "source": [
    "#Ejercicio 13: Simulacion sensor de temperatura\n",
    "temperatura=float(input(\"Ingrese la temperatura:\"))\n",
    "if temperatura<10:\n",
    "    print(\"Temperatura baja\")\n",
    "elif temperatura<=25:\n",
    "    print(\"Temperatura media\")\n",
    "else:\n",
    "    print(\"Temperatura alta\")"
   ]
  },
  {
   "cell_type": "markdown",
   "id": "22789091",
   "metadata": {},
   "source": [
    "**Ejercicio 14**:\n",
    "- Solicita tres notas: práctica (30%), teórica (40%) y proyecto (30%). Calcula la nota final ponderada.\n",
    "\n",
    "*Algoritmo*:\n",
    "\n",
    "1. Leer nota práctica\n",
    "2. Leer nota teórica\n",
    "3. Leer nota proyecto\n",
    "4. Calcular nota final = (práctica * 0.3) + (teórica * 0.4) + (proyecto * 0.3)\n",
    "5. Mostrar nota final\n",
    "\n",
    "*Diagrama de Flujo*:\n",
    "\n",
    "![Diagrama](diagramas/df_14.png)"
   ]
  },
  {
   "cell_type": "code",
   "execution_count": 3,
   "id": "5234be1a",
   "metadata": {},
   "outputs": [
    {
     "name": "stdout",
     "output_type": "stream",
     "text": [
      "La nota final es:  5.0\n"
     ]
    }
   ],
   "source": [
    "#Ejercicio 14: Cálculo de nota final\n",
    "practica=float(input(\"Ingrese la nota práctica:\"))\n",
    "teorica=float(input(\"Ingrese la nota teórica:\"))\n",
    "proyecto=float(input(\"Ingrese la nota proyecto:\"))\n",
    "nota_final=(practica*0.3)+(teorica*0.4)+(proyecto*0.3)\n",
    "print(\"La nota final es: \", nota_final)"
   ]
  }
 ],
 "metadata": {
  "kernelspec": {
   "display_name": "Python 3",
   "language": "python",
   "name": "python3"
  },
  "language_info": {
   "codemirror_mode": {
    "name": "ipython",
    "version": 3
   },
   "file_extension": ".py",
   "mimetype": "text/x-python",
   "name": "python",
   "nbconvert_exporter": "python",
   "pygments_lexer": "ipython3",
   "version": "3.14.0"
  }
 },
 "nbformat": 4,
 "nbformat_minor": 5
}
