{
 "cells": [
  {
   "cell_type": "markdown",
   "id": "43ae6365",
   "metadata": {},
   "source": [
    "## Ejercicios Evaluacion - Unidad II\n",
    "#### Taller de Programacion\n",
    "##### Autor: Carlos Duran Palape"
   ]
  },
  {
   "cell_type": "markdown",
   "id": "6b904ff8",
   "metadata": {},
   "source": [
    "***"
   ]
  },
  {
   "cell_type": "markdown",
   "id": "dc1cbf95",
   "metadata": {},
   "source": [
    "**Ejercicio 1**: Módulo de Gestión de Listas (gestion_datos.py).\n",
    "\n",
    "Requerimientos:\n",
    "1. Crea un archivo llamado gestion_datos.py.\n",
    "2. Dentro, define una función llamada agregar_elemento(lista, elemento) que use el método .append() para añadir el elemento a la lista y retorne la lista modificada.\n",
    "\n",
    "En el archivo principal:\n",
    "1. Importa la función agregar_elemento.\n",
    "2. Define una lista inicial: muestras = [10.5, 12.0].\n",
    "3. Llama a la función importada para agregar el valor 8.9 a la lista muestras.\n",
    "4. Imprime el resultado."
   ]
  },
  {
   "cell_type": "code",
   "execution_count": null,
   "id": "3eb7cff7",
   "metadata": {},
   "outputs": [
    {
     "name": "stdout",
     "output_type": "stream",
     "text": [
      "Lista inicial: [10.5, 12.0]\n",
      "Lista después de agregar 8.9: [10.5, 12.0, 8.9]\n"
     ]
    }
   ],
   "source": [
    "#gestion_datos.py\n",
    "def agregar_elemento(lista, elemento):\n",
    "    #Agrega un elemento al final de la lista y la retorna.\n",
    "    lista.append(elemento)\n",
    "    return lista\n",
    "\n",
    "#main.py\n",
    "#from gestion_datos import agregar_elemento\n",
    "muestras=[10.5, 12.0]\n",
    "print(f\"Lista inicial: {muestras}\")\n",
    "\n",
    "muestras_modificadas=agregar_elemento(muestras,8.9)\n",
    "print(f\"Lista después de agregar 8.9: {muestras_modificadas}\")"
   ]
  },
  {
   "cell_type": "markdown",
   "id": "af6ad973",
   "metadata": {},
   "source": [
    "**Ejercicio 2**: Módulo de Manipulación de Diccionarios (configuración.py)\n",
    "\n",
    "Requerimientos:\n",
    "1. Crea un archivo llamado configuracion.py.\n",
    "2. Dentro, define una función llamada obtener_valor(diccionario, clave) que retorne el valor asociado a la clave en el diccionario usando corchetes [].\n",
    "\n",
    "En el archivo principal (main.py):\n",
    "1. Define un diccionario: params = {'velocidad': 50, 'temperatura': 25}.\n",
    "2. Importa la función obtener_valor.\n",
    "3. Llama a la función importada para obtener el valor de la clave 'velocidad'.\n",
    "4. Imprime el valor obtenido con un texto descriptivo.\n",
    "\n"
   ]
  },
  {
   "cell_type": "code",
   "execution_count": 2,
   "id": "2f7437dd",
   "metadata": {},
   "outputs": [
    {
     "name": "stdout",
     "output_type": "stream",
     "text": [
      "El valor de la clave 'velocidad' es: 50\n"
     ]
    }
   ],
   "source": [
    "#configuracion.py\n",
    "def obtener_valor(diccionario, clave):\n",
    "    #Retorna el valor asociado a una clave en el diccionario.\n",
    "    return diccionario[clave]\n",
    "\n",
    "#main.py\n",
    "#from configuracion import obtener_valor\n",
    "params={'velocidad':50, 'temperatura':25}\n",
    "\n",
    "valor_velocidad=obtener_valor(params,'velocidad')\n",
    "print(f\"El valor de la clave 'velocidad' es: {valor_velocidad}\")"
   ]
  },
  {
   "cell_type": "markdown",
   "id": "0eb72c20",
   "metadata": {},
   "source": [
    "**Ejercicio 20**: Módulo de Conteo de Elementos en Listas (contadores.py)\n",
    "\n",
    "Requerimientos:\n",
    "1. Crea un archivo llamado contadores.py.\n",
    "2. Define una función llamada contar_ocurrencias(lista, elemento_a_contar) que reciba una lista y un elemento. La función debe usar el método .count() de la lista para contar cuántas veces aparece ese elemento y retornar el resultado.\n",
    "\n",
    "En el archivo principal (main.py):\n",
    "1. Define una lista de resultados de pruebas: resultados = ['Pasa', 'Falla', 'Pasa', 'Pasa', 'Falla’].\n",
    "2. Importa la función contar_ocurrencias.\n",
    "3. Llama a la función para contar cuántas veces aparece 'Pasa’.\n",
    "4. Imprime el número de ocurrencias.\n"
   ]
  },
  {
   "cell_type": "code",
   "execution_count": 4,
   "id": "97a3946c",
   "metadata": {},
   "outputs": [
    {
     "name": "stdout",
     "output_type": "stream",
     "text": [
      "Lista de resultados: ['Pasa', 'Falla', 'Pasa', 'Pasa', 'Falla']\n",
      "El elemento 'Pasa' aparece 3 veces.\n"
     ]
    }
   ],
   "source": [
    "#contadores.py\n",
    "def contar_ocurrencias(lista, elemento_a_contar):\n",
    "    #Utiliza el metodo .count() para saber cuantas veces aparece un elemento.\n",
    "    return lista.count(elemento_a_contar)\n",
    "\n",
    "#main.py\n",
    "#from contadores import contar_ocurrencias\n",
    "resultados=['Pasa', 'Falla', 'Pasa', 'Pasa', 'Falla']\n",
    "conteo=contar_ocurrencias(resultados, 'Pasa')\n",
    "\n",
    "print(f\"Lista de resultados: {resultados}\")\n",
    "print(f\"El elemento 'Pasa' aparece {conteo} veces.\")"
   ]
  }
 ],
 "metadata": {
  "kernelspec": {
   "display_name": "Python 3",
   "language": "python",
   "name": "python3"
  },
  "language_info": {
   "codemirror_mode": {
    "name": "ipython",
    "version": 3
   },
   "file_extension": ".py",
   "mimetype": "text/x-python",
   "name": "python",
   "nbconvert_exporter": "python",
   "pygments_lexer": "ipython3",
   "version": "3.13.7"
  }
 },
 "nbformat": 4,
 "nbformat_minor": 5
}
